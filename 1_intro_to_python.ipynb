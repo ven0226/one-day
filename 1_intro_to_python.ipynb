{
 "cells": [
  {
   "cell_type": "markdown",
   "metadata": {
    "run_control": {
     "frozen": false,
     "read_only": false
    },
    "slideshow": {
     "slide_type": "-"
    }
   },
   "source": [
    "# Intro to Python: From 'Hello World' to Basic Scientific Computing\n",
    "\n",
    "Z. W. Miller - 7.24.17"
   ]
  },
  {
   "cell_type": "markdown",
   "metadata": {
    "run_control": {
     "frozen": false,
     "read_only": false
    }
   },
   "source": [
    "## A few general notes:"
   ]
  },
  {
   "cell_type": "markdown",
   "metadata": {
    "run_control": {
     "frozen": false,
     "read_only": false
    }
   },
   "source": [
    "Coding is a skill just like playing an instrument, knitting, or wood-carving. It takes a lot of practice to become proficient, especially to the point where you're making things that are pretty (continuing the comparison: the time needed to not just be flailing wildly at guitar strings, but instead making chords that fit together can literally be weeks or months just to reach basic proficiency). However, the key thing to remember is... all practice is good practice, and it's just software. You literally cannot harm your computer by writing bad python code that throws an error. You might accidentally shut it down by generating an infinite loop... but 'oh well, try again after it reboots.' **Be tenacious, practice a lot, and make cool things.** "
   ]
  },
  {
   "cell_type": "markdown",
   "metadata": {
    "run_control": {
     "frozen": false,
     "read_only": false
    }
   },
   "source": [
    "## What is Python?"
   ]
  },
  {
   "cell_type": "markdown",
   "metadata": {
    "run_control": {
     "frozen": false,
     "read_only": false
    },
    "slideshow": {
     "slide_type": "-"
    }
   },
   "source": [
    "Let's get the tech-mumbo jumbo out of the way first. What is Python?"
   ]
  },
  {
   "cell_type": "markdown",
   "metadata": {
    "run_control": {
     "frozen": false,
     "read_only": false
    },
    "slideshow": {
     "slide_type": "-"
    }
   },
   "source": [
    "> Python is a widely used high-level programming language for general-purpose programming, created by Guido van Rossum and \n",
    "> first released in 1991. An interpreted language, Python has a design philosophy which emphasizes code readability \n",
    "> (notably using whitespace indentation to delimit code blocks rather than curly brackets or keywords), and a syntax which \n",
    "> allows programmers to express concepts in fewer lines of code than possible in languages such as C++ or Java. The language\n",
    "> provides constructs intended to enable writing clear programs on both a small and large scale.\n",
    "> \n",
    "> Python features a dynamic type system and automatic memory management and supports multiple programming paradigms, \n",
    "> including object-oriented, imperative, functional programming, and procedural styles. It has a large and comprehensive \n",
    "> standard library.\n",
    "> \n",
    "> -Wikipedia [https://en.wikipedia.org/wiki/Python_(programming_language)]"
   ]
  },
  {
   "cell_type": "markdown",
   "metadata": {
    "run_control": {
     "frozen": false,
     "read_only": false
    },
    "slideshow": {
     "slide_type": "-"
    }
   },
   "source": [
    "What does this actually mean? Let's paraphrase it:\n",
    "\n",
    "> Python is used by a lot of people as a go-to coding language. It's interpreted, which means we don't have to muck around\n",
    "> with compilers like we do in other languages. Python's design emphasizes the ability to look at code and understand it\n",
    "> without need for elaborate directions - and the idea is that we should always do things the simplest way. \n",
    "> \n",
    "> Python also has 'dynamic memory systems' which means that we don't have to keep track of all the memory usage like we do\n",
    "> in C-based languages. Python also allows for 'object-oriented programming' which is a more advanced topic we won't get to\n",
    "> today. Basically, Python is really damn convenient, because it's designed to be easy for the user to use.\n",
    "\n",
    "Let's get started with the most basic programming example: 'Hello world.'"
   ]
  },
  {
   "cell_type": "markdown",
   "metadata": {
    "run_control": {
     "frozen": false,
     "read_only": false
    }
   },
   "source": [
    "## What is an iPython Notebook/Jupyter Notebook?"
   ]
  },
  {
   "cell_type": "markdown",
   "metadata": {
    "run_control": {
     "frozen": false,
     "read_only": false
    }
   },
   "source": [
    "What we're using today is an iPython notebook. It allows us to work in an interactive bunch of cells where we can write **real** Python code and then execute it on the fly. Memory persists across cells - meaning I can write a function in one cell and use it in another. We'll talk more about that later. The main controls to remember is that you can hit `shift+enter` to run a cell once you type in your code. \n",
    "\n",
    "You can also switch cells to 'Markdown' mode which allows you to write notes/text like I'm using here. You can also include images and stuff. You can learn more about 'Markdown' here: https://blog.ghost.org/markdown/"
   ]
  },
  {
   "cell_type": "markdown",
   "metadata": {
    "run_control": {
     "frozen": false,
     "read_only": false
    }
   },
   "source": [
    "## Which version of Python are we using today?"
   ]
  },
  {
   "cell_type": "markdown",
   "metadata": {
    "run_control": {
     "frozen": false,
     "read_only": false
    }
   },
   "source": [
    "If your version isn't newer than the one below, you probably need to do an update.\n",
    "\n",
    "I recommend using https://www.continuum.io/downloads to get the newest version of Python 3, with a lot of really handy data handling tools."
   ]
  },
  {
   "cell_type": "code",
   "execution_count": 1,
   "metadata": {},
   "outputs": [
    {
     "name": "stdout",
     "output_type": "stream",
     "text": [
      "Python 3.5.4 :: Anaconda, Inc.\r\n"
     ]
    }
   ],
   "source": [
    "# can access command line from Jupyter\n",
    "!python -V"
   ]
  },
  {
   "cell_type": "markdown",
   "metadata": {
    "run_control": {
     "frozen": false,
     "read_only": false
    }
   },
   "source": [
    "## Hello World - the starting point of champions"
   ]
  },
  {
   "cell_type": "code",
   "execution_count": 2,
   "metadata": {
    "collapsed": true,
    "run_control": {
     "frozen": false,
     "read_only": false
    }
   },
   "outputs": [],
   "source": [
    "# to ensure python 2 & 3 compatibility\n",
    "from __future__ import print_function, division"
   ]
  },
  {
   "cell_type": "markdown",
   "metadata": {},
   "source": [
    "To run a cell in a Jupyter Notebook you can either click the **Run** button above or press **Shift+Enter**."
   ]
  },
  {
   "cell_type": "code",
   "execution_count": 3,
   "metadata": {
    "run_control": {
     "frozen": false,
     "read_only": false
    }
   },
   "outputs": [
    {
     "name": "stdout",
     "output_type": "stream",
     "text": [
      "Hello World\n"
     ]
    }
   ],
   "source": [
    "print('Hello World')"
   ]
  },
  {
   "cell_type": "code",
   "execution_count": 4,
   "metadata": {},
   "outputs": [
    {
     "name": "stdout",
     "output_type": "stream",
     "text": [
      "hello world\n"
     ]
    }
   ],
   "source": [
    "print(\"hello world\")"
   ]
  },
  {
   "cell_type": "markdown",
   "metadata": {},
   "source": [
    "## When do we use \"\" vs '' in a string?"
   ]
  },
  {
   "cell_type": "code",
   "execution_count": 5,
   "metadata": {},
   "outputs": [
    {
     "name": "stdout",
     "output_type": "stream",
     "text": [
      "that's fun\n"
     ]
    }
   ],
   "source": [
    "# include apostrophe\n",
    "print(\"that's fun\")  "
   ]
  },
  {
   "cell_type": "code",
   "execution_count": 6,
   "metadata": {},
   "outputs": [
    {
     "name": "stdout",
     "output_type": "stream",
     "text": [
      "he said \"good job\".\n"
     ]
    }
   ],
   "source": [
    "# include quote\n",
    "print('he said \"good job\".')"
   ]
  },
  {
   "cell_type": "code",
   "execution_count": 7,
   "metadata": {
    "run_control": {
     "frozen": false,
     "read_only": false
    }
   },
   "outputs": [
    {
     "name": "stdout",
     "output_type": "stream",
     "text": [
      "Hello World\n"
     ]
    }
   ],
   "source": [
    "# Here we're creating a variable with a string in it!\n",
    "word_to_print = \"Hello World\" \n",
    "print(word_to_print)"
   ]
  },
  {
   "cell_type": "markdown",
   "metadata": {},
   "source": [
    "## Types"
   ]
  },
  {
   "cell_type": "markdown",
   "metadata": {
    "run_control": {
     "frozen": false,
     "read_only": false
    }
   },
   "source": [
    "Now we've introduced the idea of variables. In Python, we don't have to tell the code in advance what our variable *type* will be. A type helps tell Python what our variable is storing for us. So for instance, let's look at the type for **word_to_print** and the type of a number. "
   ]
  },
  {
   "cell_type": "code",
   "execution_count": 8,
   "metadata": {},
   "outputs": [
    {
     "name": "stdout",
     "output_type": "stream",
     "text": [
      "<class 'str'>\n"
     ]
    }
   ],
   "source": [
    "print(type(word_to_print))"
   ]
  },
  {
   "cell_type": "code",
   "execution_count": 9,
   "metadata": {},
   "outputs": [
    {
     "name": "stdout",
     "output_type": "stream",
     "text": [
      "<class 'int'>\n"
     ]
    }
   ],
   "source": [
    "print(type(1))"
   ]
  },
  {
   "cell_type": "code",
   "execution_count": 10,
   "metadata": {},
   "outputs": [
    {
     "name": "stdout",
     "output_type": "stream",
     "text": [
      "<class 'str'>\n"
     ]
    }
   ],
   "source": [
    "print(type(\"bob\"))"
   ]
  },
  {
   "cell_type": "code",
   "execution_count": 11,
   "metadata": {
    "run_control": {
     "frozen": false,
     "read_only": false
    }
   },
   "outputs": [
    {
     "name": "stdout",
     "output_type": "stream",
     "text": [
      "<class 'float'>\n"
     ]
    }
   ],
   "source": [
    "print(type(2.5))"
   ]
  },
  {
   "cell_type": "markdown",
   "metadata": {
    "run_control": {
     "frozen": false,
     "read_only": false
    }
   },
   "source": [
    "Our print statement can also handle multiple things at once, let's use that to talk about types some more."
   ]
  },
  {
   "cell_type": "code",
   "execution_count": 12,
   "metadata": {
    "run_control": {
     "frozen": false,
     "read_only": false
    }
   },
   "outputs": [
    {
     "name": "stdout",
     "output_type": "stream",
     "text": [
      "This is a float: <class 'float'>\n"
     ]
    }
   ],
   "source": [
    "print(\"This is a float:\", type(2.5))"
   ]
  },
  {
   "cell_type": "markdown",
   "metadata": {},
   "source": [
    "## Lists"
   ]
  },
  {
   "cell_type": "markdown",
   "metadata": {
    "run_control": {
     "frozen": false,
     "read_only": false
    }
   },
   "source": [
    "What if we have multiple things we want to store all at once? Python can handle that with an object called a `list.` Lists are really excellent because:\n",
    "\n",
    "1. They can hold correlated things.\n",
    "2. They're editable... meaning we can add and subtract things as necessary.\n",
    "3. They allow for indexing (don't worry, we'll explain this in a minute)\n",
    "4. They can work with `for` loops (this one too)\n",
    "\n",
    "Let's start by looking at how lists work. They have square-brackets as their identifier."
   ]
  },
  {
   "cell_type": "code",
   "execution_count": 13,
   "metadata": {
    "run_control": {
     "frozen": false,
     "read_only": false
    }
   },
   "outputs": [
    {
     "data": {
      "text/plain": [
       "['steve', 'bob', 'emily']"
      ]
     },
     "execution_count": 13,
     "metadata": {},
     "output_type": "execute_result"
    }
   ],
   "source": [
    "our_list = [\"steve\",\"bob\",\"emily\"]\n",
    "our_list"
   ]
  },
  {
   "cell_type": "code",
   "execution_count": 14,
   "metadata": {},
   "outputs": [
    {
     "data": {
      "text/plain": [
       "list"
      ]
     },
     "execution_count": 14,
     "metadata": {},
     "output_type": "execute_result"
    }
   ],
   "source": [
    "type(our_list)"
   ]
  },
  {
   "cell_type": "code",
   "execution_count": 15,
   "metadata": {},
   "outputs": [
    {
     "data": {
      "text/plain": [
       "['steve', 'bob', 'emily', 'DOUG WAS HERE']"
      ]
     },
     "execution_count": 15,
     "metadata": {},
     "output_type": "execute_result"
    }
   ],
   "source": [
    "our_list.append(\"DOUG WAS HERE\")\n",
    "our_list"
   ]
  },
  {
   "cell_type": "code",
   "execution_count": 16,
   "metadata": {},
   "outputs": [
    {
     "data": {
      "text/plain": [
       "['steve', 'bob', 'emily']"
      ]
     },
     "execution_count": 16,
     "metadata": {},
     "output_type": "execute_result"
    }
   ],
   "source": [
    "# pop from right side (default)\n",
    "our_list.pop()\n",
    "our_list"
   ]
  },
  {
   "cell_type": "code",
   "execution_count": 17,
   "metadata": {},
   "outputs": [
    {
     "data": {
      "text/plain": [
       "['bob', 'emily']"
      ]
     },
     "execution_count": 17,
     "metadata": {},
     "output_type": "execute_result"
    }
   ],
   "source": [
    "# pop from beginning via index\n",
    "our_list.pop(0)\n",
    "our_list"
   ]
  },
  {
   "cell_type": "markdown",
   "metadata": {
    "run_control": {
     "frozen": false,
     "read_only": false
    }
   },
   "source": [
    "**Exercise 1:** Let's do 'hello world' but with lists. (solutions to all exercises at the bottom)\n",
    "\n",
    "> Create a variable called `hello_world_list` that has two elements: \n",
    "> the strings 'hello' and 'world'. Then print out that variable."
   ]
  },
  {
   "cell_type": "code",
   "execution_count": null,
   "metadata": {
    "collapsed": true
   },
   "outputs": [],
   "source": []
  },
  {
   "cell_type": "markdown",
   "metadata": {
    "run_control": {
     "frozen": false,
     "read_only": false
    }
   },
   "source": [
    "# More about Python's data structures"
   ]
  },
  {
   "cell_type": "markdown",
   "metadata": {},
   "source": [
    "## Indexing"
   ]
  },
  {
   "cell_type": "markdown",
   "metadata": {
    "run_control": {
     "frozen": false,
     "read_only": false
    }
   },
   "source": [
    "Now let's talk about indexing. Lists in Python know two things about each element: \n",
    "\n",
    "1. The element is value X (for instance the first element in our hello_world_list below has a value of 'hello')\n",
    "2. The element is at position #x\n",
    "\n",
    "For instance, the 0th position of hello_world_list has the word 'hello'. Let's take a look at this."
   ]
  },
  {
   "cell_type": "code",
   "execution_count": 19,
   "metadata": {
    "run_control": {
     "frozen": false,
     "read_only": false
    }
   },
   "outputs": [
    {
     "data": {
      "text/plain": [
       "'hello'"
      ]
     },
     "execution_count": 19,
     "metadata": {},
     "output_type": "execute_result"
    }
   ],
   "source": [
    "hello_world_list = ['hello','world']\n",
    "hello_world_list[0]"
   ]
  },
  {
   "cell_type": "code",
   "execution_count": 20,
   "metadata": {},
   "outputs": [
    {
     "data": {
      "text/plain": [
       "'world'"
      ]
     },
     "execution_count": 20,
     "metadata": {},
     "output_type": "execute_result"
    }
   ],
   "source": [
    "hello_world_list[1]"
   ]
  },
  {
   "cell_type": "code",
   "execution_count": 21,
   "metadata": {},
   "outputs": [
    {
     "name": "stdout",
     "output_type": "stream",
     "text": [
      "hello world\n"
     ]
    }
   ],
   "source": [
    "print(hello_world_list[0], hello_world_list[1])"
   ]
  },
  {
   "cell_type": "markdown",
   "metadata": {
    "run_control": {
     "frozen": false,
     "read_only": false
    }
   },
   "source": [
    "The square brackets directly after the list tell Python, \"Hey, I only want you to get the element at that position number in the list.\" Also, let's note something special: **the numbers start at 0!** All Python lists (and sets and tuples for that matter) start at position 0. This is sometimes called \"zero indexing.\"\n",
    "\n",
    "So, can lists just hold strings? Nope. Let's check out some other lists."
   ]
  },
  {
   "cell_type": "code",
   "execution_count": 22,
   "metadata": {
    "run_control": {
     "frozen": false,
     "read_only": false
    }
   },
   "outputs": [
    {
     "name": "stdout",
     "output_type": "stream",
     "text": [
      "This is a list of integers:  [1, 2, 3]\n"
     ]
    }
   ],
   "source": [
    "list_of_ints = [1,2,3]\n",
    "print(\"This is a list of integers: \", list_of_ints)"
   ]
  },
  {
   "cell_type": "code",
   "execution_count": 23,
   "metadata": {},
   "outputs": [
    {
     "name": "stdout",
     "output_type": "stream",
     "text": [
      "This is a list of floats:  [0.5, 0.2, 3]\n"
     ]
    }
   ],
   "source": [
    "list_of_floats = [0.5, 0.2, 3]\n",
    "print(\"This is a list of floats: \", list_of_floats)"
   ]
  },
  {
   "cell_type": "code",
   "execution_count": 24,
   "metadata": {},
   "outputs": [
    {
     "name": "stdout",
     "output_type": "stream",
     "text": [
      "This is a mixed list:  ['bob', 1, 0.75]\n"
     ]
    }
   ],
   "source": [
    "mixed_list = ['bob', 1, 0.75]\n",
    "print(\"This is a mixed list: \", mixed_list)"
   ]
  },
  {
   "cell_type": "code",
   "execution_count": 25,
   "metadata": {},
   "outputs": [
    {
     "name": "stdout",
     "output_type": "stream",
     "text": [
      "<class 'str'>\n",
      "<class 'int'>\n",
      "<class 'float'>\n"
     ]
    }
   ],
   "source": [
    "# look ahead #1: rewrite of cell above using for loop\n",
    "for i in range(3):\n",
    "    print(type(mixed_list[i]))"
   ]
  },
  {
   "cell_type": "code",
   "execution_count": 26,
   "metadata": {},
   "outputs": [
    {
     "data": {
      "text/plain": [
       "[str, int, float]"
      ]
     },
     "execution_count": 26,
     "metadata": {},
     "output_type": "execute_result"
    }
   ],
   "source": [
    "# look ahead #2 - rewrite using list comprehension\n",
    "[type(mixed_list[i]) for i in range(3)]"
   ]
  },
  {
   "cell_type": "markdown",
   "metadata": {
    "run_control": {
     "frozen": false,
     "read_only": false
    }
   },
   "source": [
    "**Exercise 2: **\n",
    "> Okay, so let's create a list with the values 1, 2, 3, 4, and 5 in it. Then let's use indexing to calculate the sum."
   ]
  },
  {
   "cell_type": "code",
   "execution_count": null,
   "metadata": {
    "collapsed": true
   },
   "outputs": [],
   "source": [
    "  "
   ]
  },
  {
   "cell_type": "code",
   "execution_count": 27,
   "metadata": {},
   "outputs": [
    {
     "data": {
      "text/plain": [
       "15"
      ]
     },
     "execution_count": 27,
     "metadata": {},
     "output_type": "execute_result"
    }
   ],
   "source": [
    "# alternative method & look ahead\n",
    "sum(range(1,6,1))"
   ]
  },
  {
   "cell_type": "markdown",
   "metadata": {
    "run_control": {
     "frozen": false,
     "read_only": false
    }
   },
   "source": [
    "Alright! We can do some manipulations of our data with indexing. But, there's gotta be a better way of using all the elements in a list than manually typing each index in, right? There is, they're called `for` loops. Let's take a look at an example:"
   ]
  },
  {
   "cell_type": "code",
   "execution_count": 28,
   "metadata": {
    "run_control": {
     "frozen": false,
     "read_only": false
    }
   },
   "outputs": [
    {
     "name": "stdout",
     "output_type": "stream",
     "text": [
      "1\n",
      "2\n",
      "3\n",
      "4\n",
      "5\n"
     ]
    }
   ],
   "source": [
    "values = [1,2,3,4,5]\n",
    "for val in values:\n",
    "    print(val)"
   ]
  },
  {
   "cell_type": "markdown",
   "metadata": {
    "run_control": {
     "frozen": false,
     "read_only": false
    }
   },
   "source": [
    "We told python, \"I want you to grab each element in the `values` list and then do something with it one at a time.\" There's nothing special about it being numbers, we could do that with a list of strings as well. All that Python knows is, \"This user said 'get everything in this list and give it back to me one at a time' and I'm going to do that now.\"\n",
    "\n",
    "We've also just seen our first Python indent! Did you notice that the `print()` statement is one tab in from the left side? That's how Python knows what belongs to the `for` loop and what doesn't. For instance, what if we added another print statement just below the `for` loop, but without the `tab`? Let's take a look."
   ]
  },
  {
   "cell_type": "code",
   "execution_count": 29,
   "metadata": {
    "run_control": {
     "frozen": false,
     "read_only": false
    }
   },
   "outputs": [
    {
     "name": "stdout",
     "output_type": "stream",
     "text": [
      "1\n",
      "2\n",
      "3\n",
      "4\n",
      "5\n",
      "alice\n",
      "bob\n"
     ]
    }
   ],
   "source": [
    "values = [1,2,3,4,5]\n",
    "for element in values:\n",
    "    print(element)\n",
    "print('alice')\n",
    "print('bob')"
   ]
  },
  {
   "cell_type": "markdown",
   "metadata": {
    "run_control": {
     "frozen": false,
     "read_only": false
    }
   },
   "source": [
    "So that's a big key to how Python structures it's code. Things that are inside another structure (like a `for` loop) are indented. All the indented parts for a single structure have to go together! You can't do this (which is why we get an error):"
   ]
  },
  {
   "cell_type": "code",
   "execution_count": 30,
   "metadata": {
    "run_control": {
     "frozen": false,
     "read_only": false
    }
   },
   "outputs": [
    {
     "ename": "IndentationError",
     "evalue": "unexpected indent (<ipython-input-30-74dee650d04d>, line 6)",
     "output_type": "error",
     "traceback": [
      "\u001b[0;36m  File \u001b[0;32m\"<ipython-input-30-74dee650d04d>\"\u001b[0;36m, line \u001b[0;32m6\u001b[0m\n\u001b[0;31m    x = i\u001b[0m\n\u001b[0m    ^\u001b[0m\n\u001b[0;31mIndentationError\u001b[0m\u001b[0;31m:\u001b[0m unexpected indent\n"
     ]
    }
   ],
   "source": [
    "# this breaks bc we exit the loop prematurely\n",
    "x = 0\n",
    "for i in [1,2,3,4]:\n",
    "    print(i)\n",
    "print(x)\n",
    "    x = i\n",
    "print(x)"
   ]
  },
  {
   "cell_type": "markdown",
   "metadata": {
    "run_control": {
     "frozen": false,
     "read_only": false
    }
   },
   "source": [
    "But you can do this:"
   ]
  },
  {
   "cell_type": "code",
   "execution_count": 31,
   "metadata": {
    "run_control": {
     "frozen": false,
     "read_only": false
    }
   },
   "outputs": [
    {
     "name": "stdout",
     "output_type": "stream",
     "text": [
      "1\n",
      "0\n",
      "2\n",
      "1\n",
      "3\n",
      "2\n",
      "4\n",
      "3\n",
      "4\n"
     ]
    }
   ],
   "source": [
    "x = 0\n",
    "for i in [1,2,3,4]:\n",
    "    print(i)\n",
    "    print(x)\n",
    "    x = i\n",
    "print(x)"
   ]
  },
  {
   "cell_type": "markdown",
   "metadata": {
    "run_control": {
     "frozen": false,
     "read_only": false
    }
   },
   "source": [
    "**Exercise 3: ** \n",
    "> Use a `for` loop to compute the sum of `values`, where values is a list of all numbers 1 through 5."
   ]
  },
  {
   "cell_type": "code",
   "execution_count": null,
   "metadata": {
    "collapsed": true
   },
   "outputs": [],
   "source": []
  },
  {
   "cell_type": "code",
   "execution_count": 32,
   "metadata": {},
   "outputs": [
    {
     "data": {
      "text/plain": [
       "15"
      ]
     },
     "execution_count": 32,
     "metadata": {},
     "output_type": "execute_result"
    }
   ],
   "source": [
    "# alternative solution & look ahead\n",
    "sum(range(1,6))"
   ]
  },
  {
   "cell_type": "markdown",
   "metadata": {},
   "source": [
    "## Nesting Lists"
   ]
  },
  {
   "cell_type": "markdown",
   "metadata": {
    "run_control": {
     "frozen": false,
     "read_only": false
    }
   },
   "source": [
    "One last note about lists for now, you can 'nest' them. Which basically means, you're able to create lists of lists! Let's think about this from a data perspective. Let's say you do 5 measurements, and each measurement has 2 sensors. You could have a list of 5 lists, and each sublist could be the 2 sensor values. Like this:"
   ]
  },
  {
   "cell_type": "code",
   "execution_count": 33,
   "metadata": {
    "run_control": {
     "frozen": false,
     "read_only": false
    }
   },
   "outputs": [
    {
     "name": "stdout",
     "output_type": "stream",
     "text": [
      "[[1, 0], [2, 3], [5, 7], [1, 2], [5, 3]]\n"
     ]
    }
   ],
   "source": [
    "list_of_lists = [[1,0],[2,3],[5,7],[1,2],[5,3]]\n",
    "print(list_of_lists)"
   ]
  },
  {
   "cell_type": "code",
   "execution_count": 34,
   "metadata": {},
   "outputs": [
    {
     "name": "stdout",
     "output_type": "stream",
     "text": [
      "Sublist: [1, 0]\n",
      "Sublist: [2, 3]\n",
      "Sublist: [5, 7]\n",
      "Sublist: [1, 2]\n",
      "Sublist: [5, 3]\n"
     ]
    }
   ],
   "source": [
    "# access second element in sublist\n",
    "for sublist in list_of_lists:\n",
    "    print(\"Sublist:\", sublist)"
   ]
  },
  {
   "cell_type": "code",
   "execution_count": 35,
   "metadata": {},
   "outputs": [
    {
     "data": {
      "text/plain": [
       "7"
      ]
     },
     "execution_count": 35,
     "metadata": {},
     "output_type": "execute_result"
    }
   ],
   "source": [
    "# access 2nd element of 3rd list\n",
    "list_of_lists[2][1]"
   ]
  },
  {
   "cell_type": "code",
   "execution_count": 36,
   "metadata": {
    "run_control": {
     "frozen": false,
     "read_only": false
    }
   },
   "outputs": [
    {
     "name": "stdout",
     "output_type": "stream",
     "text": [
      "Sublist: 0\n",
      "Sublist: 3\n",
      "Sublist: 7\n",
      "Sublist: 2\n",
      "Sublist: 3\n"
     ]
    }
   ],
   "source": [
    "# access second element in sublist\n",
    "for sublist in list_of_lists:\n",
    "    print(\"Sublist:\", sublist[1])"
   ]
  },
  {
   "cell_type": "markdown",
   "metadata": {},
   "source": [
    "## Which variables are in my Namespace?"
   ]
  },
  {
   "cell_type": "code",
   "execution_count": 37,
   "metadata": {},
   "outputs": [
    {
     "name": "stdout",
     "output_type": "stream",
     "text": [
      "Variable           Type        Data/Info\n",
      "----------------------------------------\n",
      "division           _Feature    _Feature((2, 2, 0, 'alpha<...> 0, 0, 'alpha', 0), 8192)\n",
      "element            int         5\n",
      "hello_world_list   list        n=2\n",
      "i                  int         4\n",
      "list_of_floats     list        n=3\n",
      "list_of_ints       list        n=3\n",
      "list_of_lists      list        n=5\n",
      "mixed_list         list        n=3\n",
      "our_list           list        n=2\n",
      "print_function     _Feature    _Feature((2, 6, 0, 'alpha<...>0, 0, 'alpha', 0), 65536)\n",
      "sublist            list        n=2\n",
      "val                int         5\n",
      "values             list        n=5\n",
      "word_to_print      str         Hello World\n",
      "x                  int         4\n"
     ]
    }
   ],
   "source": [
    "whos"
   ]
  },
  {
   "cell_type": "code",
   "execution_count": 38,
   "metadata": {
    "collapsed": true
   },
   "outputs": [],
   "source": [
    "# let's delete x\n",
    "del x"
   ]
  },
  {
   "cell_type": "code",
   "execution_count": 39,
   "metadata": {},
   "outputs": [
    {
     "name": "stdout",
     "output_type": "stream",
     "text": [
      "Variable           Type        Data/Info\n",
      "----------------------------------------\n",
      "division           _Feature    _Feature((2, 2, 0, 'alpha<...> 0, 0, 'alpha', 0), 8192)\n",
      "element            int         5\n",
      "hello_world_list   list        n=2\n",
      "i                  int         4\n",
      "list_of_floats     list        n=3\n",
      "list_of_ints       list        n=3\n",
      "list_of_lists      list        n=5\n",
      "mixed_list         list        n=3\n",
      "our_list           list        n=2\n",
      "print_function     _Feature    _Feature((2, 6, 0, 'alpha<...>0, 0, 'alpha', 0), 65536)\n",
      "sublist            list        n=2\n",
      "val                int         5\n",
      "values             list        n=5\n",
      "word_to_print      str         Hello World\n"
     ]
    }
   ],
   "source": [
    "whos"
   ]
  },
  {
   "cell_type": "markdown",
   "metadata": {},
   "source": [
    "## Nesting for loops"
   ]
  },
  {
   "cell_type": "markdown",
   "metadata": {
    "run_control": {
     "frozen": false,
     "read_only": false
    }
   },
   "source": [
    "Speaking of nesting, we can also nest for loops. Let's take this chance to introduce the \"range\" function and comments in python. A comment is something you add to your code that Python doesn't try to run as code. It's denoted like this: \n",
    "\n",
    "```python\n",
    "for blah in blahs:\n",
    "    # This is a comment. Python will skip anything after the #\n",
    "    x = blah # I can even put my comment after a line. It will run the line up to the start of the comment\n",
    "```\n",
    "\n",
    "Okay. So those are comments. What is the `range` function? It's a way to make a list of consecutive values. Let's look below."
   ]
  },
  {
   "cell_type": "code",
   "execution_count": 40,
   "metadata": {
    "run_control": {
     "frozen": false,
     "read_only": false
    }
   },
   "outputs": [
    {
     "name": "stdout",
     "output_type": "stream",
     "text": [
      "0\n",
      "1\n",
      "2\n",
      "3\n",
      "4\n"
     ]
    }
   ],
   "source": [
    "for x in range(5):\n",
    "    print(x)"
   ]
  },
  {
   "cell_type": "code",
   "execution_count": 41,
   "metadata": {},
   "outputs": [
    {
     "name": "stdout",
     "output_type": "stream",
     "text": [
      "0\n",
      "1\n",
      "2\n",
      "3\n",
      "4\n"
     ]
    }
   ],
   "source": [
    "for x in [0,1,2,3,4]:\n",
    "    print(x)"
   ]
  },
  {
   "cell_type": "markdown",
   "metadata": {
    "run_control": {
     "frozen": false,
     "read_only": false
    }
   },
   "source": [
    "Now let's use this to create a nested `for` loop."
   ]
  },
  {
   "cell_type": "code",
   "execution_count": 42,
   "metadata": {
    "run_control": {
     "frozen": false,
     "read_only": false
    }
   },
   "outputs": [
    {
     "name": "stdout",
     "output_type": "stream",
     "text": [
      "i =  0\n",
      "  j =  0\n",
      "  j =  1\n",
      "  j =  2\n",
      "i =  1\n",
      "  j =  0\n",
      "  j =  1\n",
      "  j =  2\n",
      "i =  2\n",
      "  j =  0\n",
      "  j =  1\n",
      "  j =  2\n",
      "i =  3\n",
      "  j =  0\n",
      "  j =  1\n",
      "  j =  2\n",
      "i =  4\n",
      "  j =  0\n",
      "  j =  1\n",
      "  j =  2\n"
     ]
    }
   ],
   "source": [
    "for i in range(5):\n",
    "    print(\"i = \",i)\n",
    "    for j in range(3):\n",
    "        print(\"  j = \",j)"
   ]
  },
  {
   "cell_type": "markdown",
   "metadata": {
    "run_control": {
     "frozen": false,
     "read_only": false
    }
   },
   "source": [
    "The idea here is that the outer `for` loop only repeats when it gets to the bottom of its indented stuff. Since there's a `for` loop inside, it runs all the way through EVERYTIME for the outer `for`. We can see that for every `i` all the `j`'s get a chance to show up."
   ]
  },
  {
   "cell_type": "markdown",
   "metadata": {
    "run_control": {
     "frozen": false,
     "read_only": false
    }
   },
   "source": [
    "## Slicing Lists"
   ]
  },
  {
   "cell_type": "markdown",
   "metadata": {
    "run_control": {
     "frozen": false,
     "read_only": false
    }
   },
   "source": [
    "Ordered collections can be sliced in a variety of ways using bracket notation. This notation takes three optional limits, which are each separated by colons:\n",
    "\n",
    "> `a_list[start:stop:skip]`"
   ]
  },
  {
   "cell_type": "code",
   "execution_count": 43,
   "metadata": {
    "run_control": {
     "frozen": false,
     "read_only": false
    }
   },
   "outputs": [
    {
     "data": {
      "text/plain": [
       "['a', 'b', 'c', 'd', 'e']"
      ]
     },
     "execution_count": 43,
     "metadata": {},
     "output_type": "execute_result"
    }
   ],
   "source": [
    "a_list = ['a', 'b', 'c', 'd', 'e']\n",
    "a_list"
   ]
  },
  {
   "cell_type": "code",
   "execution_count": 44,
   "metadata": {},
   "outputs": [
    {
     "data": {
      "text/plain": [
       "['a', 'b']"
      ]
     },
     "execution_count": 44,
     "metadata": {},
     "output_type": "execute_result"
    }
   ],
   "source": [
    "# First two elements\n",
    "a_list[0:2]"
   ]
  },
  {
   "cell_type": "code",
   "execution_count": 45,
   "metadata": {},
   "outputs": [
    {
     "data": {
      "text/plain": [
       "['d', 'e']"
      ]
     },
     "execution_count": 45,
     "metadata": {},
     "output_type": "execute_result"
    }
   ],
   "source": [
    "# Last two elements\n",
    "a_list[-2:]"
   ]
  },
  {
   "cell_type": "code",
   "execution_count": 46,
   "metadata": {},
   "outputs": [
    {
     "data": {
      "text/plain": [
       "['b', 'd']"
      ]
     },
     "execution_count": 46,
     "metadata": {},
     "output_type": "execute_result"
    }
   ],
   "source": [
    "# Every second element starting with the second one\n",
    "a_list[1::2]"
   ]
  },
  {
   "cell_type": "markdown",
   "metadata": {
    "run_control": {
     "frozen": false,
     "read_only": false
    }
   },
   "source": [
    "## List Comprehensions"
   ]
  },
  {
   "cell_type": "markdown",
   "metadata": {
    "run_control": {
     "frozen": false,
     "read_only": false
    }
   },
   "source": [
    "Python has a very unique and compact way of iterating over things called a comprehension."
   ]
  },
  {
   "cell_type": "code",
   "execution_count": 47,
   "metadata": {
    "run_control": {
     "frozen": false,
     "read_only": false
    }
   },
   "outputs": [
    {
     "data": {
      "text/plain": [
       "[10, 9, 8, 7, 6, 5, 4, 3, 2, 1]"
      ]
     },
     "execution_count": 47,
     "metadata": {},
     "output_type": "execute_result"
    }
   ],
   "source": [
    "a_list = [10, 9, 8, 7, 6, 5, 4, 3, 2, 1]\n",
    "a_list"
   ]
  },
  {
   "cell_type": "code",
   "execution_count": 48,
   "metadata": {},
   "outputs": [
    {
     "data": {
      "text/plain": [
       "[9, 8, 7, 6, 5, 4, 3, 2, 1, 0]"
      ]
     },
     "execution_count": 48,
     "metadata": {},
     "output_type": "execute_result"
    }
   ],
   "source": [
    "# Subtract 1 from each element in the list\n",
    "b_list = [x - 1 for x in a_list]\n",
    "b_list"
   ]
  },
  {
   "cell_type": "code",
   "execution_count": 49,
   "metadata": {},
   "outputs": [
    {
     "data": {
      "text/plain": [
       "[100, 9, 8, 7, 6, 5, 4, 3, 2, 1]"
      ]
     },
     "execution_count": 49,
     "metadata": {},
     "output_type": "execute_result"
    }
   ],
   "source": [
    "a_list[0] = 100\n",
    "a_list"
   ]
  },
  {
   "cell_type": "code",
   "execution_count": 50,
   "metadata": {},
   "outputs": [
    {
     "data": {
      "text/plain": [
       "[9, 8, 7, 6, 5, 4, 3, 2, 1, 0]"
      ]
     },
     "execution_count": 50,
     "metadata": {},
     "output_type": "execute_result"
    }
   ],
   "source": [
    "b_list"
   ]
  },
  {
   "cell_type": "code",
   "execution_count": 51,
   "metadata": {},
   "outputs": [
    {
     "data": {
      "text/plain": [
       "[8, 7, 6]"
      ]
     },
     "execution_count": 51,
     "metadata": {},
     "output_type": "execute_result"
    }
   ],
   "source": [
    "# We can also use extra conditions like:\n",
    "c_list = [x for x in a_list if 5 < x < 9]\n",
    "c_list"
   ]
  },
  {
   "cell_type": "markdown",
   "metadata": {
    "run_control": {
     "frozen": false,
     "read_only": false
    }
   },
   "source": [
    "## Some other data structures: Sets and Tuples"
   ]
  },
  {
   "cell_type": "markdown",
   "metadata": {
    "run_control": {
     "frozen": false,
     "read_only": false
    }
   },
   "source": [
    "Let's talk about a few more built-in Python structures that are similar to lists. Let's start with sets. "
   ]
  },
  {
   "cell_type": "code",
   "execution_count": 52,
   "metadata": {
    "run_control": {
     "frozen": false,
     "read_only": false
    }
   },
   "outputs": [
    {
     "data": {
      "text/plain": [
       "{1, 2, 3, 4, 5}"
      ]
     },
     "execution_count": 52,
     "metadata": {},
     "output_type": "execute_result"
    }
   ],
   "source": [
    "list_of_numbers = [1,2,2,2,4,3,5]\n",
    "set(list_of_numbers)"
   ]
  },
  {
   "cell_type": "code",
   "execution_count": 53,
   "metadata": {},
   "outputs": [
    {
     "name": "stdout",
     "output_type": "stream",
     "text": [
      "1\n",
      "2\n",
      "2\n",
      "2\n",
      "4\n",
      "3\n",
      "5\n"
     ]
    }
   ],
   "source": [
    "for i in list_of_numbers:\n",
    "    print(i)"
   ]
  },
  {
   "cell_type": "code",
   "execution_count": 54,
   "metadata": {},
   "outputs": [
    {
     "name": "stdout",
     "output_type": "stream",
     "text": [
      "1\n",
      "2\n",
      "3\n",
      "4\n",
      "5\n"
     ]
    }
   ],
   "source": [
    "for i in set(list_of_numbers):\n",
    "    print(i)"
   ]
  },
  {
   "cell_type": "markdown",
   "metadata": {
    "run_control": {
     "frozen": false,
     "read_only": false
    }
   },
   "source": [
    "So a set has a curly bracket around it, and it doesn't have duplicate values! It also sorted all the values into ascending order! Otherwise, it behaves very similarly to a list in most ways. One **BIG** difference is that in sets you can't change values on the fly like you can in a list. As an example, let's try changing an element in both a list and a set (we should see an error from the set): "
   ]
  },
  {
   "cell_type": "code",
   "execution_count": 55,
   "metadata": {
    "run_control": {
     "frozen": false,
     "read_only": false
    }
   },
   "outputs": [
    {
     "name": "stdout",
     "output_type": "stream",
     "text": [
      "<class 'list'>\n",
      "[7, 2, 3]\n"
     ]
    }
   ],
   "source": [
    "li = [1,2,3]\n",
    "print(type(li))\n",
    "li[0] = 7\n",
    "print(li)"
   ]
  },
  {
   "cell_type": "code",
   "execution_count": 56,
   "metadata": {
    "run_control": {
     "frozen": false,
     "read_only": false
    }
   },
   "outputs": [
    {
     "name": "stdout",
     "output_type": "stream",
     "text": [
      "<class 'set'>\n"
     ]
    },
    {
     "ename": "TypeError",
     "evalue": "'set' object does not support item assignment",
     "output_type": "error",
     "traceback": [
      "\u001b[0;31m---------------------------------------------------------------------------\u001b[0m",
      "\u001b[0;31mTypeError\u001b[0m                                 Traceback (most recent call last)",
      "\u001b[0;32m<ipython-input-56-bc5c65d548c7>\u001b[0m in \u001b[0;36m<module>\u001b[0;34m()\u001b[0m\n\u001b[1;32m      1\u001b[0m \u001b[0ms\u001b[0m \u001b[0;34m=\u001b[0m \u001b[0mset\u001b[0m\u001b[0;34m(\u001b[0m\u001b[0;34m[\u001b[0m\u001b[0;36m1\u001b[0m\u001b[0;34m,\u001b[0m\u001b[0;36m2\u001b[0m\u001b[0;34m,\u001b[0m\u001b[0;36m3\u001b[0m\u001b[0;34m]\u001b[0m\u001b[0;34m)\u001b[0m\u001b[0;34m\u001b[0m\u001b[0m\n\u001b[1;32m      2\u001b[0m \u001b[0mprint\u001b[0m\u001b[0;34m(\u001b[0m\u001b[0mtype\u001b[0m\u001b[0;34m(\u001b[0m\u001b[0ms\u001b[0m\u001b[0;34m)\u001b[0m\u001b[0;34m)\u001b[0m\u001b[0;34m\u001b[0m\u001b[0m\n\u001b[0;32m----> 3\u001b[0;31m \u001b[0ms\u001b[0m\u001b[0;34m[\u001b[0m\u001b[0;36m0\u001b[0m\u001b[0;34m]\u001b[0m \u001b[0;34m=\u001b[0m \u001b[0;36m7\u001b[0m\u001b[0;34m\u001b[0m\u001b[0m\n\u001b[0m\u001b[1;32m      4\u001b[0m \u001b[0mprint\u001b[0m\u001b[0;34m(\u001b[0m\u001b[0ms\u001b[0m\u001b[0;34m)\u001b[0m\u001b[0;34m\u001b[0m\u001b[0m\n",
      "\u001b[0;31mTypeError\u001b[0m: 'set' object does not support item assignment"
     ]
    }
   ],
   "source": [
    "s = set([1,2,3])\n",
    "print(type(s))\n",
    "s[0] = 7\n",
    "print(s)"
   ]
  },
  {
   "cell_type": "markdown",
   "metadata": {
    "run_control": {
     "frozen": false,
     "read_only": false
    }
   },
   "source": [
    "Sets can be modified using some extra functions like `update()` but that's best saved for another time. Sets also don't have indexing! Meaning something like `s[3]` will throw in an error."
   ]
  },
  {
   "cell_type": "code",
   "execution_count": 57,
   "metadata": {
    "run_control": {
     "frozen": false,
     "read_only": false
    }
   },
   "outputs": [
    {
     "data": {
      "text/plain": [
       "{1, 2, 3}"
      ]
     },
     "execution_count": 57,
     "metadata": {},
     "output_type": "execute_result"
    }
   ],
   "source": [
    "s = {1,2,2,3}\n",
    "s"
   ]
  },
  {
   "cell_type": "code",
   "execution_count": 58,
   "metadata": {},
   "outputs": [
    {
     "ename": "TypeError",
     "evalue": "'set' object does not support indexing",
     "output_type": "error",
     "traceback": [
      "\u001b[0;31m---------------------------------------------------------------------------\u001b[0m",
      "\u001b[0;31mTypeError\u001b[0m                                 Traceback (most recent call last)",
      "\u001b[0;32m<ipython-input-58-88de191fe097>\u001b[0m in \u001b[0;36m<module>\u001b[0;34m()\u001b[0m\n\u001b[0;32m----> 1\u001b[0;31m \u001b[0ms\u001b[0m\u001b[0;34m[\u001b[0m\u001b[0;36m1\u001b[0m\u001b[0;34m]\u001b[0m\u001b[0;34m\u001b[0m\u001b[0m\n\u001b[0m",
      "\u001b[0;31mTypeError\u001b[0m: 'set' object does not support indexing"
     ]
    }
   ],
   "source": [
    "s[1]"
   ]
  },
  {
   "cell_type": "markdown",
   "metadata": {
    "run_control": {
     "frozen": false,
     "read_only": false
    }
   },
   "source": [
    "Sets can be very handy when you're trying to find only unique values, removing duplicates and the like. However, in-practice they aren't used as much as lists.\n",
    "\n",
    "So what about 'tuples?' Tuples are denoted by parenthesis around a bunch of items. Tuples are just like lists, except they are _immutable_. Being immutable means once a tuple is constrcuted, you can't go in and make changes to the values. They DO allow for duplicates and indexing, unlike sets. Check it out:"
   ]
  },
  {
   "cell_type": "code",
   "execution_count": 59,
   "metadata": {
    "run_control": {
     "frozen": false,
     "read_only": false
    }
   },
   "outputs": [
    {
     "data": {
      "text/plain": [
       "(1, 2, 3, 4, 5, 5)"
      ]
     },
     "execution_count": 59,
     "metadata": {},
     "output_type": "execute_result"
    }
   ],
   "source": [
    "li = [1,2,3,4,5,5]\n",
    "tup = tuple(li)\n",
    "tup"
   ]
  },
  {
   "cell_type": "code",
   "execution_count": 60,
   "metadata": {},
   "outputs": [
    {
     "data": {
      "text/plain": [
       "3"
      ]
     },
     "execution_count": 60,
     "metadata": {},
     "output_type": "execute_result"
    }
   ],
   "source": [
    "tup[2]"
   ]
  },
  {
   "cell_type": "code",
   "execution_count": 61,
   "metadata": {},
   "outputs": [
    {
     "data": {
      "text/plain": [
       "tuple"
      ]
     },
     "execution_count": 61,
     "metadata": {},
     "output_type": "execute_result"
    }
   ],
   "source": [
    "type(tup)"
   ]
  },
  {
   "cell_type": "code",
   "execution_count": 62,
   "metadata": {
    "run_control": {
     "frozen": false,
     "read_only": false
    }
   },
   "outputs": [
    {
     "ename": "TypeError",
     "evalue": "'tuple' object does not support item assignment",
     "output_type": "error",
     "traceback": [
      "\u001b[0;31m---------------------------------------------------------------------------\u001b[0m",
      "\u001b[0;31mTypeError\u001b[0m                                 Traceback (most recent call last)",
      "\u001b[0;32m<ipython-input-62-bac9cd458040>\u001b[0m in \u001b[0;36m<module>\u001b[0;34m()\u001b[0m\n\u001b[0;32m----> 1\u001b[0;31m \u001b[0mtup\u001b[0m\u001b[0;34m[\u001b[0m\u001b[0;36m0\u001b[0m\u001b[0;34m]\u001b[0m \u001b[0;34m=\u001b[0m \u001b[0;36m5\u001b[0m\u001b[0;34m\u001b[0m\u001b[0m\n\u001b[0m",
      "\u001b[0;31mTypeError\u001b[0m: 'tuple' object does not support item assignment"
     ]
    }
   ],
   "source": [
    "tup[0] = 5"
   ]
  },
  {
   "cell_type": "markdown",
   "metadata": {
    "run_control": {
     "frozen": false,
     "read_only": false
    }
   },
   "source": [
    "Tuples are great things when you have data that you don't want to ever be changed. For instance, if we were reading our sensor data like above and we never wanted to lose the correlation between sensor 1 and sensor 2, we might cast (meaning: convert the data) into a tuple before we do any manipulation. That way, we always have sensor 1 and 2 together for each measurement, unchanged."
   ]
  },
  {
   "cell_type": "code",
   "execution_count": 63,
   "metadata": {},
   "outputs": [
    {
     "data": {
      "text/plain": [
       "('a', 2)"
      ]
     },
     "execution_count": 63,
     "metadata": {},
     "output_type": "execute_result"
    }
   ],
   "source": [
    "tup3 = ('a', 2)\n",
    "tup3"
   ]
  },
  {
   "cell_type": "code",
   "execution_count": 64,
   "metadata": {},
   "outputs": [
    {
     "data": {
      "text/plain": [
       "tuple"
      ]
     },
     "execution_count": 64,
     "metadata": {},
     "output_type": "execute_result"
    }
   ],
   "source": [
    "type(tup3)"
   ]
  },
  {
   "cell_type": "markdown",
   "metadata": {
    "run_control": {
     "frozen": false,
     "read_only": false
    }
   },
   "source": [
    "** Exercise 4: **\n",
    "> Given the list [1,4,4,8,9,3,2,7,5,5,5,5,5], get me a tuple that contains only the unique values in the list, ordered from low to high."
   ]
  },
  {
   "cell_type": "code",
   "execution_count": 1,
   "metadata": {
    "ExecuteTime": {
     "end_time": "2017-11-22T19:57:36.903942Z",
     "start_time": "2017-11-22T19:57:36.897255Z"
    },
    "collapsed": true
   },
   "outputs": [],
   "source": [
    "mylist = [1,4,4,8,9,3,2,7,5,5,5,5,5]\n",
    "# your code here\n"
   ]
  },
  {
   "cell_type": "markdown",
   "metadata": {},
   "source": [
    "## Quick aside: in-place or not?"
   ]
  },
  {
   "cell_type": "code",
   "execution_count": 2,
   "metadata": {
    "ExecuteTime": {
     "end_time": "2017-11-22T19:57:38.548210Z",
     "start_time": "2017-11-22T19:57:38.531991Z"
    }
   },
   "outputs": [
    {
     "data": {
      "text/plain": [
       "[9, 8, 7, 5, 5, 5, 5, 5, 4, 4, 3, 2, 1]"
      ]
     },
     "execution_count": 2,
     "metadata": {},
     "output_type": "execute_result"
    }
   ],
   "source": [
    "sorted(mylist, reverse=True)"
   ]
  },
  {
   "cell_type": "code",
   "execution_count": 3,
   "metadata": {
    "ExecuteTime": {
     "end_time": "2017-11-22T19:57:41.202428Z",
     "start_time": "2017-11-22T19:57:41.189256Z"
    }
   },
   "outputs": [
    {
     "data": {
      "text/plain": [
       "[1, 4, 4, 8, 9, 3, 2, 7, 5, 5, 5, 5, 5]"
      ]
     },
     "execution_count": 3,
     "metadata": {},
     "output_type": "execute_result"
    }
   ],
   "source": [
    "mylist"
   ]
  },
  {
   "cell_type": "code",
   "execution_count": 4,
   "metadata": {
    "ExecuteTime": {
     "end_time": "2017-11-22T19:57:41.753861Z",
     "start_time": "2017-11-22T19:57:41.746684Z"
    }
   },
   "outputs": [
    {
     "data": {
      "text/plain": [
       "[1, 2, 3, 4, 4, 5, 5, 5, 5, 5, 7, 8, 9]"
      ]
     },
     "execution_count": 4,
     "metadata": {},
     "output_type": "execute_result"
    }
   ],
   "source": [
    "mylist.sort()\n",
    "mylist"
   ]
  },
  {
   "cell_type": "markdown",
   "metadata": {
    "run_control": {
     "frozen": false,
     "read_only": false
    }
   },
   "source": [
    "## A few last notes about lists, indexing, sets, and tuples before we move on to dictionaries"
   ]
  },
  {
   "cell_type": "markdown",
   "metadata": {
    "run_control": {
     "frozen": false,
     "read_only": false
    }
   },
   "source": [
    "There are a few really useful things in Python we haven't covered yet. One of them is the length (`len()`) function. Let's see an example:"
   ]
  },
  {
   "cell_type": "code",
   "execution_count": 70,
   "metadata": {
    "run_control": {
     "frozen": false,
     "read_only": false
    }
   },
   "outputs": [
    {
     "data": {
      "text/plain": [
       "13"
      ]
     },
     "execution_count": 70,
     "metadata": {},
     "output_type": "execute_result"
    }
   ],
   "source": [
    "len(mylist)"
   ]
  },
  {
   "cell_type": "markdown",
   "metadata": {
    "run_control": {
     "frozen": false,
     "read_only": false
    }
   },
   "source": [
    "This prints the number of elements in a list! This means if we have a huge array where we're not sure how big it is, we can just look up the `len()` and we can find out.\n",
    "\n",
    "There are also interesting things about indexing that we should check out. For instance, what if we want to get the last element but we don't know how long the list is? We could find out the length and then do it that way... _OR_ we could use the power of Python's indexing. Check this out:"
   ]
  },
  {
   "cell_type": "code",
   "execution_count": 71,
   "metadata": {
    "run_control": {
     "frozen": false,
     "read_only": false
    }
   },
   "outputs": [
    {
     "data": {
      "text/plain": [
       "[1, 2, 3, 4, 5, 6, 7, 8, 9]"
      ]
     },
     "execution_count": 71,
     "metadata": {},
     "output_type": "execute_result"
    }
   ],
   "source": [
    "li = list(range(1,10))\n",
    "li"
   ]
  },
  {
   "cell_type": "code",
   "execution_count": 72,
   "metadata": {},
   "outputs": [
    {
     "data": {
      "text/plain": [
       "9"
      ]
     },
     "execution_count": 72,
     "metadata": {},
     "output_type": "execute_result"
    }
   ],
   "source": [
    "li[-1]"
   ]
  },
  {
   "cell_type": "code",
   "execution_count": 73,
   "metadata": {},
   "outputs": [
    {
     "data": {
      "text/plain": [
       "8"
      ]
     },
     "execution_count": 73,
     "metadata": {},
     "output_type": "execute_result"
    }
   ],
   "source": [
    "li[-2]"
   ]
  },
  {
   "cell_type": "markdown",
   "metadata": {
    "run_control": {
     "frozen": false,
     "read_only": false
    }
   },
   "source": [
    "What if we want to get a sub-section of the list? We can also do that with indexing!"
   ]
  },
  {
   "cell_type": "code",
   "execution_count": 74,
   "metadata": {
    "run_control": {
     "frozen": false,
     "read_only": false
    }
   },
   "outputs": [
    {
     "data": {
      "text/plain": [
       "[3, 4, 5]"
      ]
     },
     "execution_count": 74,
     "metadata": {},
     "output_type": "execute_result"
    }
   ],
   "source": [
    "li[2:5] # remember, Python starts with element index = 0, so index 2 is actually the third element in the list"
   ]
  },
  {
   "cell_type": "markdown",
   "metadata": {
    "run_control": {
     "frozen": false,
     "read_only": false
    }
   },
   "source": [
    "There's also some special notation that tell's Python, 'hey, just start at the beginning and go to this index' or 'hey, start at this index and go to the end.'"
   ]
  },
  {
   "cell_type": "code",
   "execution_count": 75,
   "metadata": {
    "run_control": {
     "frozen": false,
     "read_only": false
    }
   },
   "outputs": [
    {
     "data": {
      "text/plain": [
       "[1, 2]"
      ]
     },
     "execution_count": 75,
     "metadata": {},
     "output_type": "execute_result"
    }
   ],
   "source": [
    "# The beginning of this section is 0 since there's no starting number\n",
    "li[:2] "
   ]
  },
  {
   "cell_type": "code",
   "execution_count": 76,
   "metadata": {},
   "outputs": [
    {
     "data": {
      "text/plain": [
       "[6, 7, 8, 9]"
      ]
     },
     "execution_count": 76,
     "metadata": {},
     "output_type": "execute_result"
    }
   ],
   "source": [
    "# The end of this section is the last element, since there's no closing number\n",
    "li[5:] "
   ]
  },
  {
   "cell_type": "code",
   "execution_count": 77,
   "metadata": {
    "run_control": {
     "frozen": false,
     "read_only": false
    }
   },
   "outputs": [
    {
     "data": {
      "text/plain": [
       "[5, 6, 7, 8, 9]"
      ]
     },
     "execution_count": 77,
     "metadata": {},
     "output_type": "execute_result"
    }
   ],
   "source": [
    "# we can also do reverse sections! Let's get the last 5 elements!\n",
    "li[-5:] "
   ]
  },
  {
   "cell_type": "markdown",
   "metadata": {
    "run_control": {
     "frozen": false,
     "read_only": false
    }
   },
   "source": [
    "**Exercise 5: **\n",
    "> Given the list [1,2,3,4,5,6,7,8,9,0,1,2,3,4,5,6,7,8,9], print the last 3 values, the first 9 values, and the values at indexes 7-10"
   ]
  },
  {
   "cell_type": "code",
   "execution_count": null,
   "metadata": {
    "collapsed": true
   },
   "outputs": [],
   "source": []
  },
  {
   "cell_type": "markdown",
   "metadata": {
    "run_control": {
     "frozen": false,
     "read_only": false
    }
   },
   "source": [
    "## Dictionaries - A complement to lists"
   ]
  },
  {
   "cell_type": "markdown",
   "metadata": {
    "run_control": {
     "frozen": false,
     "read_only": false
    }
   },
   "source": [
    "Dictionaries are a handy way to store things when you want to be able to look them up by a name and the order of storage doesn't matter. Let's take a look at an example of a dictionary. Dictionaries are also denoted by curly brackets, but we'll see they have a different internal structure."
   ]
  },
  {
   "cell_type": "code",
   "execution_count": 78,
   "metadata": {
    "run_control": {
     "frozen": false,
     "read_only": false
    }
   },
   "outputs": [
    {
     "data": {
      "text/plain": [
       "1"
      ]
     },
     "execution_count": 78,
     "metadata": {},
     "output_type": "execute_result"
    }
   ],
   "source": [
    "dictionary = {'Alex': 1, \"Ron\": [2,3,4,5]}\n",
    "dictionary['Alex']"
   ]
  },
  {
   "cell_type": "code",
   "execution_count": 79,
   "metadata": {
    "run_control": {
     "frozen": false,
     "read_only": false
    }
   },
   "outputs": [
    {
     "data": {
      "text/plain": [
       "[4, 5]"
      ]
     },
     "execution_count": 79,
     "metadata": {},
     "output_type": "execute_result"
    }
   ],
   "source": [
    "dictionary['Ron'][2:]"
   ]
  },
  {
   "cell_type": "markdown",
   "metadata": {
    "run_control": {
     "frozen": false,
     "read_only": false
    }
   },
   "source": [
    "Right away, you can see that dictionaries aren't storing indexes... they're storing `keys`. These keys are how we look things up in a dictionary... and while the traditional example is to use a string as the key, we don't have to. We can also do something like:"
   ]
  },
  {
   "cell_type": "code",
   "execution_count": 80,
   "metadata": {
    "run_control": {
     "frozen": false,
     "read_only": false
    }
   },
   "outputs": [
    {
     "data": {
      "text/plain": [
       "[11, 12, 13]"
      ]
     },
     "execution_count": 80,
     "metadata": {},
     "output_type": "execute_result"
    }
   ],
   "source": [
    "dict2 = {1: [2,3,4,5], 2:[11,12,13]}\n",
    "dict2[1]\n",
    "dict2[2]"
   ]
  },
  {
   "cell_type": "markdown",
   "metadata": {
    "run_control": {
     "frozen": false,
     "read_only": false
    }
   },
   "source": [
    "Dictionary look-ups are super fast compared to lists in many cases. Thus, they can be quite useful in many circumstances. However, dictionaries don't maintain order... so it's very important not to rely on ordering when using dictionaries. Dictionaries can also have sub-dictionaries. For instance, let's look at how we might store information about some baseball players."
   ]
  },
  {
   "cell_type": "code",
   "execution_count": 81,
   "metadata": {
    "run_control": {
     "frozen": false,
     "read_only": false
    }
   },
   "outputs": [
    {
     "data": {
      "text/plain": [
       "{1914: ['Red Sox', 5, 10, 0], 1915: ['Red Sox', 43, 104, 4]}"
      ]
     },
     "execution_count": 81,
     "metadata": {},
     "output_type": "execute_result"
    }
   ],
   "source": [
    "# Let's assume a format like [Team, Games, Plate Apperance, Home Runs]\n",
    "career_stats = {'babe_ruth': {1914: [\"Red Sox\", 5, 10, 0], 1915:['Red Sox', 43, 104, 4]},\n",
    "                'gavvy_cravath': {1914: ['Phillies',149,604,14]}} # Yes, that's a real baseball player's name\n",
    "career_stats['babe_ruth']"
   ]
  },
  {
   "cell_type": "code",
   "execution_count": 82,
   "metadata": {
    "run_control": {
     "frozen": false,
     "read_only": false
    }
   },
   "outputs": [
    {
     "data": {
      "text/plain": [
       "['Phillies', 149, 604, 14]"
      ]
     },
     "execution_count": 82,
     "metadata": {},
     "output_type": "execute_result"
    }
   ],
   "source": [
    "career_stats['gavvy_cravath'][1914]"
   ]
  },
  {
   "cell_type": "code",
   "execution_count": 83,
   "metadata": {
    "run_control": {
     "frozen": false,
     "read_only": false
    }
   },
   "outputs": [
    {
     "name": "stdout",
     "output_type": "stream",
     "text": [
      "1914\n",
      "1915\n"
     ]
    }
   ],
   "source": [
    "for key in career_stats['babe_ruth'].keys():\n",
    "    print(key)"
   ]
  },
  {
   "cell_type": "code",
   "execution_count": 84,
   "metadata": {},
   "outputs": [
    {
     "name": "stdout",
     "output_type": "stream",
     "text": [
      "1914 ['Red Sox', 5, 10, 0]\n",
      "1915 ['Red Sox', 43, 104, 4]\n"
     ]
    }
   ],
   "source": [
    "for key, value in career_stats['babe_ruth'].items():\n",
    "    print(key, value)"
   ]
  },
  {
   "cell_type": "markdown",
   "metadata": {
    "run_control": {
     "frozen": false,
     "read_only": false
    }
   },
   "source": [
    "## If statements - making decisions with variables"
   ]
  },
  {
   "cell_type": "markdown",
   "metadata": {
    "run_control": {
     "frozen": false,
     "read_only": false
    }
   },
   "source": [
    "If statements are a ubiquitous part of pretty much all programming languages. We often want to treat things differently based on whether a value is big or small... true or false, etc. So let's see how this works in Python."
   ]
  },
  {
   "cell_type": "code",
   "execution_count": 85,
   "metadata": {
    "run_control": {
     "frozen": false,
     "read_only": false
    }
   },
   "outputs": [
    {
     "name": "stdout",
     "output_type": "stream",
     "text": [
      "Fight the coffee-archy, comrade.\n"
     ]
    }
   ],
   "source": [
    "do_you_like_coffee = False\n",
    "\n",
    "if do_you_like_coffee: # This by default is asking if it's true. The same as: `if do_you_like_coffee == True`\n",
    "    print(\"I'm sorry you make bad choices.\")\n",
    "else:\n",
    "    print(\"Fight the coffee-archy, comrade.\")"
   ]
  },
  {
   "cell_type": "code",
   "execution_count": 86,
   "metadata": {},
   "outputs": [
    {
     "name": "stdout",
     "output_type": "stream",
     "text": [
      "hi\n"
     ]
    }
   ],
   "source": [
    "# Truthiness in Python - show what happens when changing x to different values\n",
    "x = 1\n",
    "if x:  ## true\n",
    "    print('hi')\n",
    "else:  ## false\n",
    "    print('bye')"
   ]
  },
  {
   "cell_type": "markdown",
   "metadata": {
    "run_control": {
     "frozen": false,
     "read_only": false
    }
   },
   "source": [
    "If statements can also work with numbers by checking for greater than, less than, equal to, etc. Let's see."
   ]
  },
  {
   "cell_type": "code",
   "execution_count": 87,
   "metadata": {
    "run_control": {
     "frozen": false,
     "read_only": false
    }
   },
   "outputs": [
    {
     "name": "stdout",
     "output_type": "stream",
     "text": [
      "Math works\n"
     ]
    }
   ],
   "source": [
    "if 4 > 2.33:\n",
    "    print(\"Math works\")\n",
    "else:\n",
    "    print(\"WHAT HAVE WE DONE\")"
   ]
  },
  {
   "cell_type": "code",
   "execution_count": 88,
   "metadata": {},
   "outputs": [
    {
     "name": "stdout",
     "output_type": "stream",
     "text": [
      "x > 7.7\n"
     ]
    }
   ],
   "source": [
    "x = 7.8\n",
    "if x == 8.0: # we use two equals for comparison, since one equals tells python to set x to that value\n",
    "    print(\"x = 8.0\")\n",
    "elif x > 7.7: # this is an else-if statement. It allows us to do multiple checks in one if setup\n",
    "    print(\"x > 7.7\")\n",
    "elif x > 7.0:\n",
    "    print(\"x > 7.0\")\n",
    "else:\n",
    "    print(\"x <= 7.0\")"
   ]
  },
  {
   "cell_type": "markdown",
   "metadata": {
    "run_control": {
     "frozen": false,
     "read_only": false
    }
   },
   "source": [
    "We can also do type checking with if statements. For instance, we want to throw an error if we try to add 2 to a string. Let's try that:"
   ]
  },
  {
   "cell_type": "code",
   "execution_count": 89,
   "metadata": {
    "run_control": {
     "frozen": false,
     "read_only": false
    }
   },
   "outputs": [
    {
     "name": "stdout",
     "output_type": "stream",
     "text": [
      "ERROR: NOT AN INTEGER OR FLOAT\n"
     ]
    }
   ],
   "source": [
    "user_input = 'bob'\n",
    "\n",
    "if type(user_input) == type(1) or type(user_input) == type(1.5):\n",
    "    print(user_input +2 )\n",
    "else:\n",
    "    print(\"ERROR: NOT AN INTEGER OR FLOAT\")"
   ]
  },
  {
   "cell_type": "markdown",
   "metadata": {
    "run_control": {
     "frozen": false,
     "read_only": false
    }
   },
   "source": [
    "If statements are super handy... but luckily for us there isn't much more to them. It's always asking true-false questions, then modifying the codes behavior based on that answer. We can chain together things with `and` and `or` as shown above; but the logic side of how and when `and's` and `or's` should be used is best saved for another time. "
   ]
  },
  {
   "cell_type": "markdown",
   "metadata": {
    "run_control": {
     "frozen": false,
     "read_only": false
    }
   },
   "source": [
    "# Functions - How we SHOULD reuse code"
   ]
  },
  {
   "cell_type": "markdown",
   "metadata": {
    "run_control": {
     "frozen": false,
     "read_only": false
    }
   },
   "source": [
    "One of the beauties of Python is that it allows for function building. What is a function? Let's demonstrate with a simple example. Let's imagine we often want to compute some mathematical function on our variables. For instance, let's say we often want to get the square of some number. We could of course do this with Python in-line, but we could also make a block of code that does that. "
   ]
  },
  {
   "cell_type": "code",
   "execution_count": 90,
   "metadata": {
    "collapsed": true,
    "run_control": {
     "frozen": false,
     "read_only": false
    }
   },
   "outputs": [],
   "source": [
    "def square(x):\n",
    "    '''This is a doc string. It tells us what this function does'''\n",
    "    return x**2"
   ]
  },
  {
   "cell_type": "code",
   "execution_count": 91,
   "metadata": {},
   "outputs": [
    {
     "data": {
      "text/plain": [
       "16"
      ]
     },
     "execution_count": 91,
     "metadata": {},
     "output_type": "execute_result"
    }
   ],
   "source": [
    "square(4)"
   ]
  },
  {
   "cell_type": "code",
   "execution_count": 92,
   "metadata": {},
   "outputs": [
    {
     "data": {
      "text/plain": [
       "9"
      ]
     },
     "execution_count": 92,
     "metadata": {},
     "output_type": "execute_result"
    }
   ],
   "source": [
    "x = square(3)\n",
    "x"
   ]
  },
  {
   "cell_type": "code",
   "execution_count": 93,
   "metadata": {},
   "outputs": [
    {
     "data": {
      "text/plain": [
       "16"
      ]
     },
     "execution_count": 93,
     "metadata": {},
     "output_type": "execute_result"
    }
   ],
   "source": [
    "# nested functions\n",
    "square(square(2))"
   ]
  },
  {
   "cell_type": "markdown",
   "metadata": {
    "run_control": {
     "frozen": false,
     "read_only": false
    }
   },
   "source": [
    "This is a bit of a silly example, but it demonstrates some important concepts. First, we've defined a function with `def NAME_OF_FUNCTION()`. This means we can control how our functions are named, which means we can make our code easy to read. If we name our functions well, our code can become instantly interpretable. Next, we've demonstrated that we can send information between functions and our main code. For instance, here we told the function, \"you should expect an input, and I want you to call it `x`. If I'm still inside this function and say \"hey, what is x?\" I want you to tell me the number that the user put into the function call.\" That's called an argument of the function. By specifying the function with an `(x)`, if we try to call the function without a value, it will error (see below). "
   ]
  },
  {
   "cell_type": "code",
   "execution_count": 94,
   "metadata": {
    "run_control": {
     "frozen": false,
     "read_only": false
    }
   },
   "outputs": [
    {
     "ename": "TypeError",
     "evalue": "square() missing 1 required positional argument: 'x'",
     "output_type": "error",
     "traceback": [
      "\u001b[0;31m---------------------------------------------------------------------------\u001b[0m",
      "\u001b[0;31mTypeError\u001b[0m                                 Traceback (most recent call last)",
      "\u001b[0;32m<ipython-input-94-ad4e0b284611>\u001b[0m in \u001b[0;36m<module>\u001b[0;34m()\u001b[0m\n\u001b[0;32m----> 1\u001b[0;31m \u001b[0msquare\u001b[0m\u001b[0;34m(\u001b[0m\u001b[0;34m)\u001b[0m\u001b[0;34m\u001b[0m\u001b[0m\n\u001b[0m",
      "\u001b[0;31mTypeError\u001b[0m: square() missing 1 required positional argument: 'x'"
     ]
    }
   ],
   "source": [
    "square()"
   ]
  },
  {
   "cell_type": "markdown",
   "metadata": {
    "run_control": {
     "frozen": false,
     "read_only": false
    }
   },
   "source": [
    "We also see that Python continues to use indentation as a marker for being inside a function. We also have a `return` which means that we can send information back to the main code. Let's look at what happens when I call print inside the function and don't have a return."
   ]
  },
  {
   "cell_type": "code",
   "execution_count": 95,
   "metadata": {
    "run_control": {
     "frozen": false,
     "read_only": false
    }
   },
   "outputs": [
    {
     "name": "stdout",
     "output_type": "stream",
     "text": [
      "16\n"
     ]
    }
   ],
   "source": [
    "def square_then_print(x):\n",
    "    y = x**2\n",
    "    print(y)\n",
    "    \n",
    "square_then_print(4)"
   ]
  },
  {
   "cell_type": "markdown",
   "metadata": {
    "run_control": {
     "frozen": false,
     "read_only": false
    }
   },
   "source": [
    "So it's also possible to not have a return in Python. Can we send variables to functions? Yep."
   ]
  },
  {
   "cell_type": "code",
   "execution_count": 96,
   "metadata": {
    "run_control": {
     "frozen": false,
     "read_only": false
    }
   },
   "outputs": [
    {
     "name": "stdout",
     "output_type": "stream",
     "text": [
      "1\n"
     ]
    }
   ],
   "source": [
    "def add_one_to_var(x):\n",
    "    x += 1\n",
    "    return x\n",
    "\n",
    "z = 0\n",
    "z_plus_one = add_one_to_var(z)\n",
    "print(z_plus_one)"
   ]
  },
  {
   "cell_type": "markdown",
   "metadata": {
    "run_control": {
     "frozen": false,
     "read_only": false
    }
   },
   "source": [
    "**Exercise 6:**\n",
    "\n",
    "> Write a function that takes in a number and returns the number cubed plus 7."
   ]
  },
  {
   "cell_type": "code",
   "execution_count": null,
   "metadata": {
    "collapsed": true
   },
   "outputs": [],
   "source": []
  },
  {
   "cell_type": "markdown",
   "metadata": {
    "run_control": {
     "frozen": false,
     "read_only": false
    }
   },
   "source": [
    "What about lists, can we send lists to functions? Absolutely."
   ]
  },
  {
   "cell_type": "code",
   "execution_count": 97,
   "metadata": {
    "run_control": {
     "frozen": false,
     "read_only": false
    }
   },
   "outputs": [
    {
     "name": "stdout",
     "output_type": "stream",
     "text": [
      "1\n",
      "2\n",
      "3\n",
      "4\n"
     ]
    }
   ],
   "source": [
    "def print_list(li):\n",
    "    for el in li:\n",
    "        print(el)\n",
    "        \n",
    "print_list([1,2,3,4])"
   ]
  },
  {
   "cell_type": "markdown",
   "metadata": {
    "run_control": {
     "frozen": false,
     "read_only": false
    }
   },
   "source": [
    "**Exercise 7:**\n",
    "\n",
    "> Write a function that takes a list, set, or tuple as input and computes the sum of all the elements (NOTE: Don't use the name \"sum\" as a vairable name. We'll see why in a minute.)"
   ]
  },
  {
   "cell_type": "code",
   "execution_count": null,
   "metadata": {
    "collapsed": true,
    "run_control": {
     "frozen": false,
     "read_only": false
    }
   },
   "outputs": [],
   "source": []
  },
  {
   "cell_type": "markdown",
   "metadata": {
    "run_control": {
     "frozen": false,
     "read_only": false
    }
   },
   "source": [
    "As a sidenote, Python actually has a really handy built-in function that computes the sum of a list really quickly. You might see it around. It goes like this:"
   ]
  },
  {
   "cell_type": "code",
   "execution_count": 98,
   "metadata": {
    "run_control": {
     "frozen": false,
     "read_only": false
    }
   },
   "outputs": [
    {
     "name": "stdout",
     "output_type": "stream",
     "text": [
      "15\n"
     ]
    }
   ],
   "source": [
    "values = [1,2,3,4,5]\n",
    "print(sum(values))"
   ]
  },
  {
   "cell_type": "markdown",
   "metadata": {
    "run_control": {
     "frozen": false,
     "read_only": false
    }
   },
   "source": [
    "## Args vs Kwargs"
   ]
  },
  {
   "cell_type": "markdown",
   "metadata": {
    "run_control": {
     "frozen": false,
     "read_only": false
    }
   },
   "source": [
    "One of the main complexities that comes up in Python functions is: what if I need an argument with a default value (e.g. it's USUALLY this, but I want to allow the programmer to change it as necessary)? That's where Kwargs come in. Let's look at an example."
   ]
  },
  {
   "cell_type": "code",
   "execution_count": 99,
   "metadata": {
    "run_control": {
     "frozen": false,
     "read_only": false
    }
   },
   "outputs": [
    {
     "name": "stdout",
     "output_type": "stream",
     "text": [
      "16\n",
      "64\n"
     ]
    }
   ],
   "source": [
    "def raise_to_power(x, power=2):\n",
    "    return x**power\n",
    "\n",
    "print(raise_to_power(4)) # no Kwarg, so use default of power=2\n",
    "\n",
    "print(raise_to_power(4, power=3)) # Kwarg found, so use the value assigned!"
   ]
  },
  {
   "cell_type": "markdown",
   "metadata": {
    "run_control": {
     "frozen": false,
     "read_only": false
    }
   },
   "source": [
    "Here we've created a function that raises a number (x) to some power. In this case, `x` is an argument of the function. However, `power` is also something a user can specify, but it DOES have a default value (2). So if we call the function and never say, `power = #`, the function assumes `power=2`. Thus, `power` is called a Kwarg or **K**ey**W**ord **ARG**ument. Kwargs must always be defined with a default value in the function, and must always be listed after all of the 'regular' arguments. Kwargs are a really handy way of setting default values in functions, while still givng the user some flexibility. It's a slightly more advanced topic, so we'll just cover the basic idea here."
   ]
  },
  {
   "cell_type": "markdown",
   "metadata": {
    "run_control": {
     "frozen": false,
     "read_only": false
    }
   },
   "source": [
    "## Key Take-Aways about Functions\n",
    "\n",
    "Functions are a HUGE part of programming well. There are some key things to remember about functions:\n",
    "\n",
    "* If you are ever re-using code, put it into a function. Functions are there so you shouldn't ever copy-paste code. It's good code design to use functions.\n",
    "* Name your functions well! If I have to read your code later a function called `function2()` is not easy to understand, a function called `sum_of_list()` is!\n",
    "* Use your arguments and Kwarguments well (arguments are the things inside the parenthesis, Kwargs are in the parenthesis but with default values). If you need to have arguments, name your arguments well. We didn't do a good job of that here since they are very simple examples. Good variable naming is VITAL for bigger projects.\n",
    "* Functions will save you time. It's a pain to think about functions at the beginning, invest the time as they are wonder-workers when done well."
   ]
  },
  {
   "cell_type": "markdown",
   "metadata": {
    "run_control": {
     "frozen": false,
     "read_only": false
    }
   },
   "source": [
    "# Imports - How we can use Python's huge library of pre-made modules"
   ]
  },
  {
   "cell_type": "markdown",
   "metadata": {
    "run_control": {
     "frozen": false,
     "read_only": false
    }
   },
   "source": [
    "Importing things is how we can gain access to the best that Python has to offer in terms of pre-made modules. For instance, we're going to want to use random numbers in a later example. So let's learn how to import the 'random' module. In this case, I know that there's a module called `random` that allows a user to generate and use random numbers in their code. If we tell python `import random`, it will give us access to all the functions that someone else has programmed into the `random module` to generate the random numbers. Once imported, if we want to use one of `random`'s functions, we have to tell python \"check random for this function\" which we do by saying `random.FUNCTION_NAME()`."
   ]
  },
  {
   "cell_type": "code",
   "execution_count": 6,
   "metadata": {
    "ExecuteTime": {
     "end_time": "2017-11-22T19:58:45.248530Z",
     "start_time": "2017-11-22T19:58:45.239364Z"
    },
    "run_control": {
     "frozen": false,
     "read_only": false
    }
   },
   "outputs": [
    {
     "data": {
      "text/plain": [
       "3"
      ]
     },
     "execution_count": 6,
     "metadata": {},
     "output_type": "execute_result"
    }
   ],
   "source": [
    "import random\n",
    "random.randint(0,10)"
   ]
  },
  {
   "cell_type": "markdown",
   "metadata": {
    "run_control": {
     "frozen": false,
     "read_only": false
    }
   },
   "source": [
    "Importing it also makes `random` accessible in other cells... as long this instance of the python notebook is open, once we import we can use `random` in any other cells. We don't have to re-import it every time."
   ]
  },
  {
   "cell_type": "code",
   "execution_count": 101,
   "metadata": {
    "run_control": {
     "frozen": false,
     "read_only": false
    }
   },
   "outputs": [
    {
     "name": "stdout",
     "output_type": "stream",
     "text": [
      "5\n",
      "10\n",
      "5\n",
      "2\n"
     ]
    }
   ],
   "source": [
    "for _ in range(4):\n",
    "    print(random.randint(2,10))"
   ]
  },
  {
   "cell_type": "markdown",
   "metadata": {
    "run_control": {
     "frozen": false,
     "read_only": false
    }
   },
   "source": [
    "**Exercise 8:**\n",
    "\n",
    "> Generate 500 random integers between 0-10, store them in a list, compute the average value of the random integers. Is it the value you expect? Run it a few times, does it change? What happens if you make it 5000 random numbers?"
   ]
  },
  {
   "cell_type": "code",
   "execution_count": null,
   "metadata": {
    "collapsed": true
   },
   "outputs": [],
   "source": []
  },
  {
   "cell_type": "markdown",
   "metadata": {
    "run_control": {
     "frozen": false,
     "read_only": false
    }
   },
   "source": [
    "We also are going to want to use a library called `numpy` which is an excellent library for mathematical manipulations. It's VERY fast and has the ability to make slightly more efficient lists (called arrays) and to do more complex mathematical things with those arrays. We can also give `numpy` a special name so we don't always have to type `numpy`."
   ]
  },
  {
   "cell_type": "code",
   "execution_count": 102,
   "metadata": {
    "run_control": {
     "frozen": false,
     "read_only": false
    }
   },
   "outputs": [
    {
     "name": "stdout",
     "output_type": "stream",
     "text": [
      "40\n"
     ]
    }
   ],
   "source": [
    "import numpy as np\n",
    "\n",
    "vector1 = np.array([1,2,3,4])\n",
    "vector2 = np.array([2,3,4,5])\n",
    "print(np.dot(vector1,vector2)) \n",
    "# This is the dot product. If you don't understand it, no worries.\n",
    "# It's just an example of the cool math numpy has built in."
   ]
  },
  {
   "cell_type": "markdown",
   "metadata": {
    "run_control": {
     "frozen": false,
     "read_only": false
    }
   },
   "source": [
    "Numpy is also **REALLY** handy for doing matrix math, since it knows all about matrices and even as a np.matrix() object. Numpy also has a random number generator as well. It's a really great library that really deserves its own lecture."
   ]
  },
  {
   "cell_type": "markdown",
   "metadata": {
    "run_control": {
     "frozen": false,
     "read_only": false
    }
   },
   "source": [
    "# Plotting - now we're getting somewhere cool"
   ]
  },
  {
   "cell_type": "markdown",
   "metadata": {
    "run_control": {
     "frozen": false,
     "read_only": false
    }
   },
   "source": [
    "One of the main Python libraries used for scientific computing is `matplotlib` which is a module designed around making plotting super easy. Let's look through some simple examples to whet your appetite."
   ]
  },
  {
   "cell_type": "code",
   "execution_count": 7,
   "metadata": {
    "ExecuteTime": {
     "end_time": "2017-11-22T19:58:50.054645Z",
     "start_time": "2017-11-22T19:58:49.079967Z"
    },
    "run_control": {
     "frozen": false,
     "read_only": false
    }
   },
   "outputs": [
    {
     "data": {
      "image/png": "[encoded data removed]",
      "text/plain": [
       "<matplotlib.figure.Figure at 0x1058e44e0>"
      ]
     },
     "metadata": {},
     "output_type": "display_data"
    }
   ],
   "source": [
    "import matplotlib.pyplot as plt # this is a standard convention when using matplotlib, we name it plt.\n",
    "%matplotlib inline \n",
    "# This is a special command only used in Jupyter Notebooks, it allows plt to draw in the notebook\n",
    "\n",
    "x = range(50) # this makes a list from 0-50\n",
    "y = []\n",
    "\n",
    "for value in x:\n",
    "    y.append(value**2) # This makes a list of x^2 in the SAME order as the x list.\n",
    "\n",
    "plt.plot(x,y); # this reads the two lists and grabs element 0 from x and y, then draws it. Then element 1, then ele...\n",
    "plt.xlabel(\"X\"); # LABEL OR DIE\n",
    "plt.ylabel(\"X-squared\");\n",
    "plt.title(\"Just a demo plot, yo\");"
   ]
  },
  {
   "cell_type": "markdown",
   "metadata": {
    "run_control": {
     "frozen": false,
     "read_only": false
    }
   },
   "source": [
    "Now let's make a scatter plot! And this time, let's do it with a random number generator and a function."
   ]
  },
  {
   "cell_type": "code",
   "execution_count": 8,
   "metadata": {
    "ExecuteTime": {
     "end_time": "2017-11-22T19:58:53.389381Z",
     "start_time": "2017-11-22T19:58:53.142120Z"
    },
    "run_control": {
     "frozen": false,
     "read_only": false
    }
   },
   "outputs": [
    {
     "data": {
      "image/png": "[encoded data removed]",
      "text/plain": [
       "<matplotlib.figure.Figure at 0x10cccbb38>"
      ]
     },
     "metadata": {},
     "output_type": "display_data"
    }
   ],
   "source": [
    "def get_data_point():\n",
    "    value1 = random.randint(-10,10)\n",
    "    value2 = random.randint(-10,10)\n",
    "    return value1, value2 # Yep, Python can return more than one thing from a function. Check below to see how to handle it\n",
    "\n",
    "x_values = []\n",
    "y_values = []\n",
    "for i in range(250):\n",
    "    x, y = get_data_point() # we have to put two things left of equals, since it returns two things.\n",
    "    x_values.append(x)\n",
    "    y_values.append(y)\n",
    "\n",
    "plt.scatter(x_values,y_values,c='red',alpha=0.33);"
   ]
  },
  {
   "cell_type": "markdown",
   "metadata": {
    "run_control": {
     "frozen": false,
     "read_only": false
    }
   },
   "source": [
    "BOOM. We also changed the color of the points by telling it to have \"c='red'\" There are hundreds of plotting options in MatPlotLib... but we'll stop there for now and jump to the crowning achievement for today. Calculating Pi using random numbers."
   ]
  },
  {
   "cell_type": "markdown",
   "metadata": {
    "run_control": {
     "frozen": false,
     "read_only": false
    }
   },
   "source": [
    "# Let's SIMULATE some stuff"
   ]
  },
  {
   "cell_type": "markdown",
   "metadata": {
    "run_control": {
     "frozen": false,
     "read_only": false
    }
   },
   "source": [
    "Okay, we need some math background for this. We're going to try to calculate pi using random numbers. How can that work? Well, the idea is that we're use the areas of the circle and square to get this. The area of a circle is A_circle = Pi x radius^2. For a square, the area is A_square = length x width.\n",
    "\n",
    "So if we have the radius be 1, and the length of the squares side be 2, we can have a circle set in a square, like shown below."
   ]
  },
  {
   "cell_type": "code",
   "execution_count": 105,
   "metadata": {
    "run_control": {
     "frozen": false,
     "read_only": false
    }
   },
   "outputs": [
    {
     "data": {
      "image/png": "[encoded data removed]",
      "text/plain": [
       "<matplotlib.figure.Figure at 0x11650ee48>"
      ]
     },
     "metadata": {},
     "output_type": "display_data"
    }
   ],
   "source": [
    "def draw_circle_square():\n",
    "    x_square = [-1,1,1,-1,-1]\n",
    "    y_square = [1,1,-1,-1,1]\n",
    "    plt.plot(x_square,y_square)\n",
    "\n",
    "    x_circle = np.linspace(1,-1,100)\n",
    "    y_circle = []\n",
    "    y_circle_negative = []\n",
    "    \n",
    "    for x in x_circle:\n",
    "        y_circle.append(np.sqrt(1-x**2))\n",
    "        y_circle_negative.append(-np.sqrt(1-x**2))\n",
    "\n",
    "    plt.plot(x_circle,y_circle,c='r')\n",
    "    plt.plot(x_circle,y_circle_negative,c='r')\n",
    "\n",
    "    plt.axes().set_aspect('equal') # This is just to square up the plot instead of being a rectangle\n",
    "\n",
    "draw_circle_square()"
   ]
  },
  {
   "cell_type": "markdown",
   "metadata": {
    "run_control": {
     "frozen": false,
     "read_only": false
    }
   },
   "source": [
    "So, if we generate data points and keep track of how many fall inside the circle AND the square, versus just the square, we can get an estimate of their areas. If we then do the area of the circle, divided by the area of the square, we expect it to be:\n",
    "\n",
    "$\\frac{\\pi*1*1}{2*2} = \\frac{\\pi}{4}$\n",
    "\n",
    "We can do this with just a few functions and some of the knowledge we've already gained from today. So, give it a shot. I'll slowly reveal parts of the answer along the way.\n",
    "\n",
    "A hint: You'll need to calculate some distances. The distance from a point to the center of the square/circle is:\n",
    "\n",
    "d = $\\sqrt{x^{2} + y^{2}}$\n"
   ]
  },
  {
   "cell_type": "code",
   "execution_count": 106,
   "metadata": {
    "run_control": {
     "frozen": false,
     "read_only": false
    }
   },
   "outputs": [
    {
     "data": {
      "image/png": "[encoded data removed]",
      "text/plain": [
       "<matplotlib.figure.Figure at 0x1165002e8>"
      ]
     },
     "metadata": {},
     "output_type": "display_data"
    }
   ],
   "source": [
    "draw_circle_square()\n",
    "example_points_x = [-0.1,0.5,0.75,-.9]\n",
    "example_points_y = [-0.5,0.6,0.8,-0.55]\n",
    "colors = ['r','r','b','b']\n",
    "plt.scatter(example_points_x,example_points_y,c=colors);"
   ]
  },
  {
   "cell_type": "markdown",
   "metadata": {
    "run_control": {
     "frozen": false,
     "read_only": false
    }
   },
   "source": [
    "### Solution without numpy"
   ]
  },
  {
   "cell_type": "code",
   "execution_count": 107,
   "metadata": {
    "run_control": {
     "frozen": false,
     "read_only": false
    }
   },
   "outputs": [
    {
     "name": "stdout",
     "output_type": "stream",
     "text": [
      "3.1412\n"
     ]
    }
   ],
   "source": [
    "import random\n",
    "def get_data_point():\n",
    "    '''\n",
    "    We're going to generate a value between 0 and 1. We can multiply by 2 and subtract 1 to \n",
    "    get a random number in the range of [-1,1]\n",
    "    '''\n",
    "    x = random.random()*2.-1.\n",
    "    y = random.random()*2.-1.\n",
    "    return [x,y]\n",
    "\n",
    "def get_distance(data_point):\n",
    "    '''\n",
    "    Here we just unpack our data point to x and y coordinates\n",
    "    then calculate the Euclidean distance\n",
    "    '''\n",
    "    x,y = data_point\n",
    "    return np.sqrt(x*x + y*y)\n",
    "\n",
    "def is_in_circle(data_point):\n",
    "    '''\n",
    "    This function takes our data point, finds the distance to the center of the\n",
    "    circle, an checks if it is less than the circle's radius (1). If it is, \n",
    "    it returns true (the point is in the circle), if not, it returns false.\n",
    "    '''\n",
    "    dist = get_distance(data_point)\n",
    "    return dist <= 1.\n",
    "\n",
    "def calculate_pi(num_data_points):\n",
    "    '''\n",
    "    For the number of data points requested (how many random draws to do), generate a data\n",
    "    point and check if it's in the circle, as well as the square. Keep track of how many are\n",
    "    in the circle, then return (circle/square)*4 to estimate pi.\n",
    "    '''\n",
    "    data = []\n",
    "    points_in_circle = 0\n",
    "    for i in range(int(num_data_points)):\n",
    "        data = get_data_point()\n",
    "        if is_in_circle(data):\n",
    "            points_in_circle += 1\n",
    "    return (points_in_circle/num_data_points)*4\n",
    "\n",
    "print(calculate_pi(10**4))"
   ]
  },
  {
   "cell_type": "markdown",
   "metadata": {
    "run_control": {
     "frozen": false,
     "read_only": false
    }
   },
   "source": [
    "Now let's plot the value we calculate for Pi for a bunch of different number of points to see how it goes."
   ]
  },
  {
   "cell_type": "code",
   "execution_count": 108,
   "metadata": {
    "run_control": {
     "frozen": false,
     "read_only": false
    }
   },
   "outputs": [
    {
     "data": {
      "image/png": "[encoded data removed]",
      "text/plain": [
       "<matplotlib.figure.Figure at 0x10c0603c8>"
      ]
     },
     "metadata": {},
     "output_type": "display_data"
    }
   ],
   "source": [
    "# this just gives us 1000 evenly spaced points between 1 and 10000\n",
    "num_points_to_try = np.linspace(100,10000,1000) \n",
    "\n",
    "pi_vals = []\n",
    "for num_points in num_points_to_try:\n",
    "    pi_vals.append(calculate_pi(num_points))\n",
    "\n",
    "plt.plot(num_points_to_try,pi_vals);\n",
    "plt.xlabel(\"Number of Points Sampled\");\n",
    "plt.ylabel(\"Guessed Value of Pi\");\n",
    "plt.title(\"Estimating Pi with Random Numbers\");"
   ]
  },
  {
   "cell_type": "code",
   "execution_count": 109,
   "metadata": {
    "run_control": {
     "frozen": false,
     "read_only": false
    }
   },
   "outputs": [
    {
     "data": {
      "image/png": "[encoded data removed]",
      "text/plain": [
       "<matplotlib.figure.Figure at 0x1165ea5c0>"
      ]
     },
     "metadata": {},
     "output_type": "display_data"
    }
   ],
   "source": [
    "errors = [estimate - 3.14159265 for estimate in pi_vals]\n",
    "\n",
    "plt.plot(num_points_to_try,errors)\n",
    "plt.xlabel(\"Number of Points Sampled\")\n",
    "plt.ylabel(\"Error on estimate\")\n",
    "plt.title(\"Estimating Pi with Random Numbers\")\n",
    "plt.plot([-10,10100],[0,0],'--r',lw=2); # just adding a line to show where 0 is."
   ]
  },
  {
   "cell_type": "markdown",
   "metadata": {
    "run_control": {
     "frozen": false,
     "read_only": false
    }
   },
   "source": [
    "### And now with numpy"
   ]
  },
  {
   "cell_type": "code",
   "execution_count": null,
   "metadata": {
    "run_control": {
     "frozen": false,
     "read_only": false
    }
   },
   "outputs": [
    {
     "data": {
      "text/plain": [
       "3.1332"
      ]
     },
     "execution_count": 110,
     "metadata": {},
     "output_type": "execute_result"
    }
   ],
   "source": [
    "import numpy as np\n",
    "\n",
    "def calculate_pi_numpy(num_data_points):\n",
    "    data = np.random.rand(int(num_data_points),2)*2. - 1. # This generates all the random numbers.\n",
    "                                                          # Numpy creates an array on the fly to store them.\n",
    "\n",
    "    in_circle = 0\n",
    "    for point in data:\n",
    "        vecx, vecy = point.T # Just grabbing the X and Y components here\n",
    "        if np.hypot(vecx,vecy) <= 1: # numpy has a really fast way to calculate the hypotenuse\n",
    "            in_circle += 1\n",
    "    return (in_circle/num_data_points)*4\n",
    "\n",
    "calculate_pi_numpy(10000)"
   ]
  },
  {
   "cell_type": "code",
   "execution_count": null,
   "metadata": {
    "collapsed": true,
    "run_control": {
     "frozen": false,
     "read_only": false
    }
   },
   "outputs": [],
   "source": [
    "num_points_to_try = np.linspace(1,10000,1000) # this just gives us 1000 points between 1 and 10000\n",
    "pi_vals = []\n",
    "\n",
    "for num_points in num_points_to_try:\n",
    "    pi_vals.append(calculate_pi_numpy(num_points))\n",
    "\n",
    "plt.plot(num_points_to_try,pi_vals,'r');\n",
    "plt.xlabel(\"Number of Points Sampled\");\n",
    "plt.ylabel(\"Guessed Value of Pi\");\n",
    "plt.title(\"Estimating Pi with Random Numbers\");"
   ]
  },
  {
   "cell_type": "markdown",
   "metadata": {
    "run_control": {
     "frozen": false,
     "read_only": false
    }
   },
   "source": [
    "### Sidenote: Why does this work? \n",
    "\n",
    "Because with enough points, we actually can fill in the circle and square. So we are literally learning about the areas by randomness. This is known as a Monte Carlo technique (not important to know, but you might want to read more later). Check it out."
   ]
  },
  {
   "cell_type": "code",
   "execution_count": null,
   "metadata": {
    "collapsed": true,
    "run_control": {
     "frozen": false,
     "read_only": false
    }
   },
   "outputs": [],
   "source": [
    "draw_circle_square()\n",
    "\n",
    "x_vals = []\n",
    "y_vals = []\n",
    "colors = []\n",
    "for i in range(3000):\n",
    "    data = get_data_point()\n",
    "    \n",
    "    x_vals.append(data[0])\n",
    "    y_vals.append(data[1])\n",
    "    if is_in_circle(data):\n",
    "        colors.append('r')\n",
    "    else:\n",
    "        colors.append('b')\n",
    "plt.scatter(x_vals,y_vals,c=colors,alpha=0.5,s=14);\n",
    "plt.xlabel(\"X\");\n",
    "plt.ylabel(\"Y\");"
   ]
  },
  {
   "cell_type": "markdown",
   "metadata": {
    "run_control": {
     "frozen": false,
     "read_only": false
    }
   },
   "source": [
    "# Bonus Stuff: Classes"
   ]
  },
  {
   "cell_type": "markdown",
   "metadata": {
    "run_control": {
     "frozen": false,
     "read_only": false
    }
   },
   "source": [
    "Classes are amazing, somewhat complicated, and an unavoidable part of learning Python. They let us do a ton of really cool things. We're not going to get into too much detail today, but let me demonstrate. "
   ]
  },
  {
   "cell_type": "code",
   "execution_count": null,
   "metadata": {
    "collapsed": true,
    "run_control": {
     "frozen": false,
     "read_only": false
    }
   },
   "outputs": [],
   "source": [
    "class Dog:\n",
    "    \n",
    "    # Method that is run upon initiation\n",
    "    def __init__(self, name):\n",
    "        self.name = name\n",
    "        \n",
    "    # Method that is run on demand\n",
    "    def bark(self):\n",
    "        print(\"{} says woof-woof\".format(self.name))"
   ]
  },
  {
   "cell_type": "code",
   "execution_count": null,
   "metadata": {
    "collapsed": true
   },
   "outputs": [],
   "source": [
    "d = Dog(\"Spot\") \n",
    "d.bark()"
   ]
  },
  {
   "cell_type": "code",
   "execution_count": null,
   "metadata": {
    "collapsed": true
   },
   "outputs": [],
   "source": [
    "d2 = Dog(\"Alejandro\")\n",
    "d2.bark()"
   ]
  },
  {
   "cell_type": "code",
   "execution_count": null,
   "metadata": {
    "collapsed": true,
    "run_control": {
     "frozen": false,
     "read_only": false
    }
   },
   "outputs": [],
   "source": [
    "class Cat:\n",
    "    \n",
    "    def __init__(self,name):\n",
    "        self.name = name\n",
    "        self.lives = 9\n",
    "        self.alive = True\n",
    "    \n",
    "    def lose_life(self):\n",
    "        self.lives -=1\n",
    "        if self.lives <= 0:\n",
    "            self.alive = False\n",
    "    \n",
    "    def how_many_lives(self):\n",
    "        if self.alive:\n",
    "            print(\"%s has %s lives left.\"%(self.name,self.lives))\n",
    "        else:\n",
    "            print(\"%s has used all lives. :sad:\"%self.name)"
   ]
  },
  {
   "cell_type": "code",
   "execution_count": null,
   "metadata": {
    "collapsed": true,
    "run_control": {
     "frozen": false,
     "read_only": false
    }
   },
   "outputs": [],
   "source": [
    "mika = Cat('Mika')\n",
    "steve = Cat('Steve')\n",
    "\n",
    "steve.how_many_lives()\n",
    "print(steve.lives)\n",
    "steve.lose_life()\n",
    "\n",
    "mika.how_many_lives()\n",
    "steve.how_many_lives()"
   ]
  },
  {
   "cell_type": "code",
   "execution_count": null,
   "metadata": {
    "collapsed": true,
    "run_control": {
     "frozen": false,
     "read_only": false
    }
   },
   "outputs": [],
   "source": [
    "while steve.alive:\n",
    "    steve.lose_life()\n",
    "    steve.how_many_lives()\n",
    "    \n",
    "mika.how_many_lives()"
   ]
  },
  {
   "cell_type": "markdown",
   "metadata": {
    "run_control": {
     "frozen": false,
     "read_only": false
    }
   },
   "source": [
    "**Exercise 9:**\n",
    "\n",
    "> Write a class for \"person\" that stores a person's age, hair color, and eye color. In that class, add a function that allows you to change the hair color."
   ]
  },
  {
   "cell_type": "code",
   "execution_count": null,
   "metadata": {
    "collapsed": true,
    "run_control": {
     "frozen": false,
     "read_only": false
    }
   },
   "outputs": [],
   "source": []
  },
  {
   "cell_type": "markdown",
   "metadata": {
    "run_control": {
     "frozen": false,
     "read_only": false
    }
   },
   "source": [
    "# Where to go from here?"
   ]
  },
  {
   "cell_type": "markdown",
   "metadata": {
    "run_control": {
     "frozen": false,
     "read_only": false
    }
   },
   "source": [
    "This has been a whirlwind of information that I hope has been useful. It's just the tip of the iceberg. Here are some other great resources:\n",
    "\n",
    "* https://learnpythonthehardway.org/ (this costs money)\n",
    "* http://codingbat.com/python (Lot's of simple test problems to play with)\n",
    "* http://learnpython.org/ (Excellent interactive 'course')\n",
    "* https://py.checkio.org/ (A series of Python tasks in a game framework; I've never played it but know people who have and learned a ton. Requires Log-in.)\n",
    "\n",
    "At the end of the day, finding cool ideas and trying to code them up is the best place to go. Fight with your code, love your code, passionately defend your code. It's all part of the fun. Take a look around and see what other people are doing and see if you can do it (better). GitHub is a great resource for finding cool projects and great coding examples. At the risk of self-promotion, let's say you want to learn how to work with microphones... you can look at my github for an example here: https://github.com/ZWMiller/PythonProjects/blob/master/streamAudio/streamAudio.py That code will never win an award, but if you were trying to figure out how to begin working with microphones in Python, it's a great place to start. There are tons of people doing _WAY_ cooler things than I am, so find them on GitHub, look at their code, figure out what they're doing... it's a great resource.\n",
    "\n",
    "** Best of luck. Feel free to ping me with questions! **"
   ]
  },
  {
   "cell_type": "markdown",
   "metadata": {
    "run_control": {
     "frozen": false,
     "read_only": false
    }
   },
   "source": [
    "# Solutions!"
   ]
  },
  {
   "cell_type": "markdown",
   "metadata": {
    "run_control": {
     "frozen": false,
     "read_only": false
    }
   },
   "source": [
    "**Exercise 1:**"
   ]
  },
  {
   "cell_type": "code",
   "execution_count": null,
   "metadata": {
    "collapsed": true,
    "run_control": {
     "frozen": false,
     "read_only": false
    }
   },
   "outputs": [],
   "source": [
    "hello_world_list = ['hello','world']\n",
    "print(hello_world_list)"
   ]
  },
  {
   "cell_type": "markdown",
   "metadata": {
    "run_control": {
     "frozen": false,
     "read_only": false
    }
   },
   "source": [
    "**Exercise 2: **"
   ]
  },
  {
   "cell_type": "code",
   "execution_count": null,
   "metadata": {
    "collapsed": true,
    "run_control": {
     "frozen": false,
     "read_only": false
    }
   },
   "outputs": [],
   "source": [
    "values = [1,2,3,4,5]\n",
    "sm = values[0]+values[1]+values[2]+values[3]+values[4]\n",
    "print(\"The Sum is: \",sm)"
   ]
  },
  {
   "cell_type": "markdown",
   "metadata": {
    "run_control": {
     "frozen": false,
     "read_only": false
    }
   },
   "source": [
    "**Exercise 3: **"
   ]
  },
  {
   "cell_type": "code",
   "execution_count": null,
   "metadata": {
    "collapsed": true,
    "run_control": {
     "frozen": false,
     "read_only": false
    }
   },
   "outputs": [],
   "source": [
    "values = [1,2,3,4,5]\n",
    "sm = 0\n",
    "sm2 = 0\n",
    "for val in values:\n",
    "    sm = sm + val\n",
    "    sm2 += val # Note, these are completely equivalent! += just means, add it to the current value on the left side.\n",
    "print(sm)\n",
    "print(sm2)"
   ]
  },
  {
   "cell_type": "markdown",
   "metadata": {
    "run_control": {
     "frozen": false,
     "read_only": false
    }
   },
   "source": [
    "**Exercise 4: **"
   ]
  },
  {
   "cell_type": "code",
   "execution_count": null,
   "metadata": {
    "collapsed": true,
    "run_control": {
     "frozen": false,
     "read_only": false
    }
   },
   "outputs": [],
   "source": [
    "li = [1,4,4,8,9,3,2,7,5,5,5,5,5]\n",
    "s = set(li)\n",
    "tup = tuple(s)\n",
    "print(tup)"
   ]
  },
  {
   "cell_type": "markdown",
   "metadata": {
    "run_control": {
     "frozen": false,
     "read_only": false
    }
   },
   "source": [
    "**Exercise 5: **"
   ]
  },
  {
   "cell_type": "code",
   "execution_count": null,
   "metadata": {
    "collapsed": true,
    "run_control": {
     "frozen": false,
     "read_only": false
    }
   },
   "outputs": [],
   "source": [
    "li = [1,2,3,4,5,6,7,8,9,0,1,2,3,4,5,6,7,8,9]\n",
    "last_three = li[-3:]\n",
    "print(last_three)\n",
    "\n",
    "first_nine = li[:9]\n",
    "print(first_nine)\n",
    "\n",
    "middle = li[7:10]\n",
    "print(middle)"
   ]
  },
  {
   "cell_type": "markdown",
   "metadata": {
    "run_control": {
     "frozen": false,
     "read_only": false
    }
   },
   "source": [
    "**Exercise 6:**"
   ]
  },
  {
   "cell_type": "code",
   "execution_count": null,
   "metadata": {
    "collapsed": true,
    "run_control": {
     "frozen": false,
     "read_only": false
    }
   },
   "outputs": [],
   "source": [
    "def cube_plus_seven(x):\n",
    "    return x**3+7\n",
    "\n",
    "print(cube_plus_seven(2))"
   ]
  },
  {
   "cell_type": "markdown",
   "metadata": {
    "run_control": {
     "frozen": false,
     "read_only": false
    }
   },
   "source": [
    "**Exercise 7:**"
   ]
  },
  {
   "cell_type": "code",
   "execution_count": null,
   "metadata": {
    "collapsed": true,
    "run_control": {
     "frozen": false,
     "read_only": false
    }
   },
   "outputs": [],
   "source": [
    "def sum_of_list(li):\n",
    "    sm = 0\n",
    "    for el in li:\n",
    "        sm+=el\n",
    "    return sm\n",
    "\n",
    "print(sum_of_list([1,2,3,4,5]))"
   ]
  },
  {
   "cell_type": "markdown",
   "metadata": {
    "run_control": {
     "frozen": false,
     "read_only": false
    }
   },
   "source": [
    "**Exercise 8:**"
   ]
  },
  {
   "cell_type": "code",
   "execution_count": null,
   "metadata": {
    "collapsed": true,
    "run_control": {
     "frozen": false,
     "read_only": false
    }
   },
   "outputs": [],
   "source": [
    "def get_random_number():\n",
    "    return random.randint(0,10)\n",
    "\n",
    "def sum_of_list(li):\n",
    "    sm = 0\n",
    "    for el in li:\n",
    "        sm+=el\n",
    "    return sm\n",
    "\n",
    "numbers = []\n",
    "for i in range(5000):\n",
    "    numbers.append(get_random_number())\n",
    "\n",
    "avg = sum_of_list(numbers)/len(numbers)\n",
    "print(avg)"
   ]
  },
  {
   "cell_type": "markdown",
   "metadata": {
    "collapsed": true,
    "run_control": {
     "frozen": false,
     "read_only": false
    }
   },
   "source": [
    "**Exercise 9:**"
   ]
  },
  {
   "cell_type": "code",
   "execution_count": null,
   "metadata": {
    "collapsed": true,
    "run_control": {
     "frozen": false,
     "read_only": false
    }
   },
   "outputs": [],
   "source": [
    "class person:\n",
    "    def __init__(self,age,hair,eyes):\n",
    "        self.age = age\n",
    "        self.hair = hair\n",
    "        self.eyes = eyes\n",
    "    \n",
    "    def change_hair(self,new_hair):\n",
    "        self.hair = new_hair\n",
    "\n",
    "zach = person(29,'red','blue')\n",
    "zach.change_hair('brown')\n",
    "print(zach.hair)"
   ]
  },
  {
   "cell_type": "code",
   "execution_count": null,
   "metadata": {
    "collapsed": true,
    "run_control": {
     "frozen": false,
     "read_only": false
    }
   },
   "outputs": [],
   "source": []
  }
 ],
 "metadata": {
  "kernelspec": {
   "display_name": "Python [conda root]",
   "language": "python",
   "name": "conda-root-py"
  },
  "language_info": {
   "codemirror_mode": {
    "name": "ipython",
    "version": 3
   },
   "file_extension": ".py",
   "mimetype": "text/x-python",
   "name": "python",
   "nbconvert_exporter": "python",
   "pygments_lexer": "ipython3",
   "version": "3.6.2"
  },
  "latex_envs": {
   "LaTeX_envs_menu_present": true,
   "bibliofile": "biblio.bib",
   "cite_by": "apalike",
   "current_citInitial": 1,
   "eqLabelWithNumbers": true,
   "eqNumInitial": 1,
   "hotkeys": {
    "equation": "Ctrl-E",
    "itemize": "Ctrl-I"
   },
   "labels_anchors": false,
   "latex_user_defs": false,
   "report_style_numbering": false,
   "user_envs_cfg": false
  },
  "toc": {
   "nav_menu": {
    "height": "354px",
    "width": "252px"
   },
   "number_sections": true,
   "sideBar": true,
   "skip_h1_title": false,
   "toc_cell": false,
   "toc_position": {},
   "toc_section_display": "block",
   "toc_window_display": false
  }
 },
 "nbformat": 4,
 "nbformat_minor": 2
}
